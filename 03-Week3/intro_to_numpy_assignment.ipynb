{
 "cells": [
  {
   "cell_type": "markdown",
   "metadata": {
    "id": "ZvNsvUNNlZbi"
   },
   "source": [
    "# Coding Temple's Data Analytics Program  \n",
    "---\n",
    "# Advanced Python - Intro to `numpy`\n",
    "---\n",
    "\n"
   ]
  },
  {
   "cell_type": "markdown",
   "metadata": {
    "id": "xMq6Of2Gt24o"
   },
   "source": [
    "## Part 1: Working with `numpy`\n"
   ]
  },
  {
   "cell_type": "markdown",
   "metadata": {
    "id": "76eJSGb5gwtY"
   },
   "source": [
    "### 1.1 Importing `numpy`\n",
    "\n",
    "We've already used the `numpy` package by importing it and assigning it the standard alias of `np`. Do this again in the following cell - the more you practice typing these lines of code, the easier it will be to remember."
   ]
  },
  {
   "cell_type": "code",
   "execution_count": 1,
   "metadata": {
    "id": "h3r0IvHVuGJb"
   },
   "outputs": [],
   "source": [
    "# Import numpy and assign it the standard alias\n",
    "# YOUR CODE HERE\n",
    "import numpy as np"
   ]
  },
  {
   "cell_type": "markdown",
   "metadata": {},
   "source": [
    "### 1.1 Solution - Run this cell to check your answer in 1.1. Please do not edit the values in this cell!"
   ]
  },
  {
   "cell_type": "code",
   "execution_count": 2,
   "metadata": {},
   "outputs": [],
   "source": [
    "# DO NOT EDIT THIS CELL\n",
    "assert np.__name__ == 'numpy', 'Make sure that you have properly imported numpy and aliased it as np!'"
   ]
  },
  {
   "cell_type": "markdown",
   "metadata": {
    "id": "DvYie7qokbDH"
   },
   "source": [
    "### 1.2 Generate random numbers\n",
    "\n",
    "Create a `(5,3)` `numpy` array of random integer values between 0 and 100.\n",
    "\n",
    "Use the the `random()` method in numpy to generate these integers. Name your new variable `myarray`. You should also print the array to check it's dimensions and values."
   ]
  },
  {
   "cell_type": "code",
   "execution_count": 3,
   "metadata": {
    "colab": {
     "base_uri": "https://localhost:8080/"
    },
    "id": "UNJo_50VktRs",
    "outputId": "201f35e8-cd05-451c-aee4-de9b6e2ad93c"
   },
   "outputs": [
    {
     "data": {
      "text/plain": [
       "array([[37, 12, 72],\n",
       "       [ 9, 75,  5],\n",
       "       [79, 64, 16],\n",
       "       [ 1, 76, 71],\n",
       "       [ 6, 25, 50]])"
      ]
     },
     "execution_count": 3,
     "metadata": {},
     "output_type": "execute_result"
    }
   ],
   "source": [
    "# Generate your random numbers\n",
    "np.random.seed(1) #Seed generated for reproducibility\n",
    "\n",
    "#YOUR CODE HERE\n",
    "myarray = np.random.randint(0,100, (5,3))\n",
    "\n",
    "# Print out the array\n",
    "myarray"
   ]
  },
  {
   "cell_type": "markdown",
   "metadata": {},
   "source": [
    "### 1.2 Solution - Run the following cell to check your answer."
   ]
  },
  {
   "cell_type": "code",
   "execution_count": 4,
   "metadata": {},
   "outputs": [],
   "source": [
    "#DO NOT EDIT THIS CELL\n",
    "\n",
    "#Verify the array was created with the correct name and has the proper shape\n",
    "assert myarray.shape == (5,3), 'Make sure you create an array with the proper shape!'"
   ]
  },
  {
   "cell_type": "markdown",
   "metadata": {},
   "source": [
    "### 1.3 Calculate BMI \n",
    "\n",
    "Using the two lists provided, please calculate the BMI(body mass index) of each individual using NDArrays. Save the variable containing your results as `bmi`\n",
    "\n",
    "The formula for BMI in pounds and inches can be defined as: $BMI= \\frac{703 * weight} {(height)^2}$"
   ]
  },
  {
   "cell_type": "code",
   "execution_count": 11,
   "metadata": {},
   "outputs": [],
   "source": [
    "height = [55, 120, 90, 100]\n",
    "weight = [170, 180, 190, 200]\n",
    "np_height = np.array(height)\n",
    "np_weight = np.array(weight)"
   ]
  },
  {
   "cell_type": "code",
   "execution_count": 12,
   "metadata": {},
   "outputs": [
    {
     "data": {
      "text/plain": [
       "array([39.50743802,  8.7875    , 16.49012346, 14.06      ])"
      ]
     },
     "execution_count": 12,
     "metadata": {},
     "output_type": "execute_result"
    }
   ],
   "source": [
    "bmi = (703* np_weight)/(np_height)**2\n",
    "bmi"
   ]
  },
  {
   "cell_type": "markdown",
   "metadata": {},
   "source": [
    "### 1.3 Solution: Run the following cell to check your answer."
   ]
  },
  {
   "cell_type": "code",
   "execution_count": 13,
   "metadata": {},
   "outputs": [],
   "source": [
    "assert 'bmi' in dir() , 'Make sure you have saved your results to the proper variable name!'\n",
    "assert type(bmi) == np.ndarray, 'Make sure that you made the calculation using an NDArray for both height and weight!'"
   ]
  },
  {
   "cell_type": "markdown",
   "metadata": {},
   "source": [
    "### 1.4 Create a function \n",
    "\n",
    "Create a function named `my_func` that will take in two parameters and will create a random matrix based off of those parameters. Extra: Have additional parameters taken in that allow the user to choose the shape and data type of the matrix."
   ]
  },
  {
   "cell_type": "code",
   "execution_count": 24,
   "metadata": {},
   "outputs": [
    {
     "name": "stdout",
     "output_type": "stream",
     "text": [
      "Matrix result: \n",
      "[[22 38 41]\n",
      " [74 77 70]\n",
      " [25 48 50]] \n",
      "\n",
      "Matrix result: \n",
      "[[ 9.53078106 14.32630062 93.10129333 57.65842164 83.96452138]\n",
      " [62.32921128 32.45174964 72.80116434 52.27366296 73.68114658]\n",
      " [16.54061148 68.70582924 42.681084   72.85573976 75.63353922]\n",
      " [39.76112824 92.52001089 20.3510321   0.80027107 92.63507082]\n",
      " [29.45115453 16.69515938  2.41016265 45.20016084 80.83387458]\n",
      " [36.8376854  60.92069891  3.48477228 35.45772294  7.85199637]\n",
      " [69.31851991  1.27126651 45.95452841 96.13172623 33.41852204]\n",
      " [47.20834209 10.53912515 50.30759061 88.56898607 53.43773391]\n",
      " [28.14767654 35.45846908 89.62802505 24.1489141   2.38840945]] \n",
      "\n",
      "Matrix result: \n",
      "[[0.9657268  0.4299679  0.34628852 0.57706763 0.12652616]\n",
      " [0.95004331 0.31361083 0.95283112 0.21839323 0.2487002 ]\n",
      " [0.86380179 0.23526833 0.81510006 0.54389724 0.19126027]\n",
      " [0.58883994 0.04813679 0.01587298 0.04971102 0.39941529]\n",
      " [0.57690396 0.86751746 0.78616224 0.25470275 0.08225491]\n",
      " [0.157756   0.20949288 0.4173828  0.34769002 0.69988403]\n",
      " [0.6975095  0.0747239  0.0364697  0.78939985 0.90052855]\n",
      " [0.00466331 0.26420331 0.4673773  0.3598162  0.24021763]\n",
      " [0.02316873 0.53166811 0.13019472 0.56145896 0.1678308 ]] \n",
      "\n"
     ]
    }
   ],
   "source": [
    "def my_func(ar_min,ar_max,shape=(3,3),dtype=int):\n",
    "    if dtype == int:\n",
    "        arr_out = np.random.randint(ar_min, ar_max,shape)\n",
    "        return arr_out\n",
    "    else:\n",
    "        arr_out = np.random.uniform(ar_min, ar_max,shape)\n",
    "        return arr_out\n",
    "    \n",
    "print(f'Matrix result: \\n{my_func(0,100)} \\n')\n",
    "print(f'Matrix result: \\n{my_func(0,100, (9,5),float)} \\n')\n",
    "print(f'Matrix result: \\n{my_func(0,1, (9,5),float)} \\n')\n",
    "    "
   ]
  },
  {
   "cell_type": "markdown",
   "metadata": {
    "id": "CYy4Zp5pk7tS"
   },
   "source": [
    "### 1.5 Array practice\n",
    "\n",
    "Time for some more practice. Run each of these tasks in the separate code cell listed below:\n",
    "\n",
    "1.  Return the first row\n",
    "2.  Return the last column\n",
    "3.  Return the third column values from the 4th and 5th rows\n",
    "4.  Multiply every value in the array by 2\n",
    "5.  Divide every value by 3\n",
    "6.  Increase the values in the first row by 12\n",
    "7. Calculate the mean of the first column\n",
    "8. Calculate the median of the array _after_ removing the 2 smallest values in the array\n",
    "9. Calculate the standard deviation of the first 3 rows\n",
    "10. Return values greater than 25 in the second column\n",
    "11. Return values less than 40 in the array"
   ]
  },
  {
   "cell_type": "code",
   "execution_count": 26,
   "metadata": {},
   "outputs": [
    {
     "data": {
      "text/plain": [
       "array([[28, 75,  5, 81,  5],\n",
       "       [42, 86, 52, 57, 56],\n",
       "       [78, 87, 81, 10, 72],\n",
       "       [48, 19, 12, 25, 77],\n",
       "       [16,  4, 88, 27, 50],\n",
       "       [68,  3, 58, 12,  2],\n",
       "       [76, 96, 96, 61, 15],\n",
       "       [74, 12, 18, 30, 59],\n",
       "       [ 5, 16, 95, 96, 60]])"
      ]
     },
     "execution_count": 26,
     "metadata": {},
     "output_type": "execute_result"
    }
   ],
   "source": [
    "M = my_func(0,100,(9,5))\n",
    "M"
   ]
  },
  {
   "cell_type": "code",
   "execution_count": 27,
   "metadata": {
    "colab": {
     "base_uri": "https://localhost:8080/"
    },
    "id": "lIxLoTfGl910",
    "outputId": "126ce770-41b6-42ab-eab5-26071a027979"
   },
   "outputs": [
    {
     "data": {
      "text/plain": [
       "array([28, 75,  5, 81,  5])"
      ]
     },
     "execution_count": 27,
     "metadata": {},
     "output_type": "execute_result"
    }
   ],
   "source": [
    "# 1. Return the first row:\n",
    "M[0]"
   ]
  },
  {
   "cell_type": "code",
   "execution_count": 34,
   "metadata": {
    "colab": {
     "base_uri": "https://localhost:8080/"
    },
    "id": "lMafok6zoGB-",
    "outputId": "df874775-ac9e-42de-c305-fd7e13afc98b"
   },
   "outputs": [
    {
     "data": {
      "text/plain": [
       "array([ 5, 56, 72, 77, 50,  2, 15, 59, 60])"
      ]
     },
     "execution_count": 34,
     "metadata": {},
     "output_type": "execute_result"
    }
   ],
   "source": [
    "# 2. Return the last column\n",
    "M[:,-1]"
   ]
  },
  {
   "cell_type": "code",
   "execution_count": 37,
   "metadata": {
    "colab": {
     "base_uri": "https://localhost:8080/"
    },
    "id": "TEpRarEbobjz",
    "outputId": "0adb6634-385c-47a4-f01e-1b8add2518d1"
   },
   "outputs": [
    {
     "data": {
      "text/plain": [
       "array([12, 88])"
      ]
     },
     "execution_count": 37,
     "metadata": {},
     "output_type": "execute_result"
    }
   ],
   "source": [
    "# 3. Return the third column values from the 4th and 5th rows\n",
    "\n",
    "M[3:5,2]"
   ]
  },
  {
   "cell_type": "code",
   "execution_count": 38,
   "metadata": {
    "colab": {
     "base_uri": "https://localhost:8080/"
    },
    "id": "6nR51YtPpdKo",
    "outputId": "244aec23-e37a-4bca-d8fb-43b3744f3c4d"
   },
   "outputs": [
    {
     "name": "stdout",
     "output_type": "stream",
     "text": [
      "[[ 56 150  10 162  10]\n",
      " [ 84 172 104 114 112]\n",
      " [156 174 162  20 144]\n",
      " [ 96  38  24  50 154]\n",
      " [ 32   8 176  54 100]\n",
      " [136   6 116  24   4]\n",
      " [152 192 192 122  30]\n",
      " [148  24  36  60 118]\n",
      " [ 10  32 190 192 120]]\n"
     ]
    }
   ],
   "source": [
    "# 4. Multiply every value in the array by 2\n",
    "print(M*2)"
   ]
  },
  {
   "cell_type": "code",
   "execution_count": 39,
   "metadata": {
    "colab": {
     "base_uri": "https://localhost:8080/"
    },
    "id": "6Nr8BqCVpfr1",
    "outputId": "a3616032-2853-41a8-c941-b5a8be43f70f"
   },
   "outputs": [
    {
     "name": "stdout",
     "output_type": "stream",
     "text": [
      "[[ 9.33333333 25.          1.66666667 27.          1.66666667]\n",
      " [14.         28.66666667 17.33333333 19.         18.66666667]\n",
      " [26.         29.         27.          3.33333333 24.        ]\n",
      " [16.          6.33333333  4.          8.33333333 25.66666667]\n",
      " [ 5.33333333  1.33333333 29.33333333  9.         16.66666667]\n",
      " [22.66666667  1.         19.33333333  4.          0.66666667]\n",
      " [25.33333333 32.         32.         20.33333333  5.        ]\n",
      " [24.66666667  4.          6.         10.         19.66666667]\n",
      " [ 1.66666667  5.33333333 31.66666667 32.         20.        ]]\n"
     ]
    }
   ],
   "source": [
    "# 5. Divide every value by 3\n",
    "print(M/3)"
   ]
  },
  {
   "cell_type": "code",
   "execution_count": 41,
   "metadata": {
    "colab": {
     "base_uri": "https://localhost:8080/"
    },
    "id": "5ejUOn2gptcV",
    "outputId": "921e3aab-2cf7-4a46-8581-5fdb1fb69da1"
   },
   "outputs": [
    {
     "name": "stdout",
     "output_type": "stream",
     "text": [
      "[[28 75  5 81  5]\n",
      " [42 86 52 57 56]\n",
      " [78 87 81 10 72]\n",
      " [48 19 12 25 77]\n",
      " [16  4 88 27 50]\n",
      " [68  3 58 12  2]\n",
      " [76 96 96 61 15]\n",
      " [74 12 18 30 59]\n",
      " [ 5 16 95 96 60]]\n"
     ]
    }
   ],
   "source": [
    "# fixing my setting all values in row1 to 12\n",
    "M[0]=[28, 75,  5, 81,  5]\n",
    "print(M)"
   ]
  },
  {
   "cell_type": "code",
   "execution_count": 43,
   "metadata": {},
   "outputs": [
    {
     "name": "stdout",
     "output_type": "stream",
     "text": [
      "[[40 87 17 93 17]\n",
      " [42 86 52 57 56]\n",
      " [78 87 81 10 72]\n",
      " [48 19 12 25 77]\n",
      " [16  4 88 27 50]\n",
      " [68  3 58 12  2]\n",
      " [76 96 96 61 15]\n",
      " [74 12 18 30 59]\n",
      " [ 5 16 95 96 60]]\n"
     ]
    }
   ],
   "source": [
    "# 6. Increase the values in the first row by 12\n",
    "M[0] =M[0]+12\n",
    "print(M)"
   ]
  },
  {
   "cell_type": "code",
   "execution_count": 46,
   "metadata": {
    "colab": {
     "base_uri": "https://localhost:8080/"
    },
    "id": "o-q-n6rzpunI",
    "outputId": "0783e4fc-2bc5-4480-e62d-90fdd33c73e2"
   },
   "outputs": [
    {
     "name": "stdout",
     "output_type": "stream",
     "text": [
      "First column: [40 42 78 48 16 68 76 74  5]\n"
     ]
    },
    {
     "data": {
      "text/plain": [
       "49.666666666666664"
      ]
     },
     "execution_count": 46,
     "metadata": {},
     "output_type": "execute_result"
    }
   ],
   "source": [
    "# 7. Calculate the mean of the first column\n",
    "print(f'First column: {M[:,0]}')\n",
    "np.mean(M[:,0])"
   ]
  },
  {
   "cell_type": "code",
   "execution_count": 59,
   "metadata": {
    "colab": {
     "base_uri": "https://localhost:8080/"
    },
    "id": "izVdnwnLpuuY",
    "outputId": "11965467-d665-416e-a4ec-883745aa668f"
   },
   "outputs": [
    {
     "name": "stderr",
     "output_type": "stream",
     "text": [
      "/tmp/ipykernel_157313/3266099500.py:7: DeprecationWarning: elementwise comparison failed; this will raise an error in the future.\n",
      "  filtered_neo = FlatNeo[FlatNeo != min_values]\n"
     ]
    },
    {
     "data": {
      "text/plain": [
       "52.0"
      ]
     },
     "execution_count": 59,
     "metadata": {},
     "output_type": "execute_result"
    }
   ],
   "source": [
    "# 8. Calculate the median of the array after removing the 2 smallest values in the array\n",
    "Neo = M  # <== not wanting to mess up the original matrix\n",
    "FlatNeo = Neo.flatten()\n",
    "SortedNeo = np.sort(FlatNeo)\n",
    "min_values = SortedNeo[:2]\n",
    "# print(min_values)\n",
    "filtered_neo = FlatNeo[FlatNeo != min_values]\n",
    "np.median(filtered_neo)"
   ]
  },
  {
   "cell_type": "code",
   "execution_count": 62,
   "metadata": {
    "colab": {
     "base_uri": "https://localhost:8080/"
    },
    "id": "1WCDKp2xrzK9",
    "outputId": "74aca405-d2d6-4ec6-e983-a438a8aec81f"
   },
   "outputs": [
    {
     "name": "stdout",
     "output_type": "stream",
     "text": [
      "New Matrix: \n",
      " [[40 15 45  8 22]\n",
      " [43 18 11 40  7]\n",
      " [34 49 31 11 21]\n",
      " [47 31 26 20 37]\n",
      " [39  3 38  4 42]\n",
      " [43 39 38 42 33]\n",
      " [ 3  5 24  4 46]\n",
      " [ 6 31 19 31  2]\n",
      " [16 46 12  4 26]]\n"
     ]
    }
   ],
   "source": [
    "# Generate a new array to work on\n",
    "np.random.seed(2) # New seed for new array\n",
    "N = my_func(0,50,(9,5))\n",
    "print(f'New Matrix: \\n {N}')\n"
   ]
  },
  {
   "cell_type": "code",
   "execution_count": 65,
   "metadata": {},
   "outputs": [
    {
     "name": "stdout",
     "output_type": "stream",
     "text": [
      "First 3 rows: \n",
      "[[40 15 45  8 22]\n",
      " [43 18 11 40  7]\n",
      " [34 49 31 11 21]]\n",
      "Standard deviation of them: 14.187631546135135\n"
     ]
    }
   ],
   "source": [
    "# 9. Calculate the standard deviation of the first 3 rows\n",
    "print(f'First 3 rows: \\n{N[0:3]}')\n",
    "print(f'Standard deviation of them: {np.std(N[0:3])}')"
   ]
  },
  {
   "cell_type": "code",
   "execution_count": 69,
   "metadata": {
    "colab": {
     "base_uri": "https://localhost:8080/"
    },
    "id": "zb7aXd3xry3r",
    "outputId": "e6f81b8a-1cb1-4c9f-a734-a8471a8f7961"
   },
   "outputs": [
    {
     "name": "stdout",
     "output_type": "stream",
     "text": [
      "[49 31 39 31 46]\n"
     ]
    }
   ],
   "source": [
    "# 10. Return values in the second column greater than 25\n",
    "mask = N[:,1] > 25\n",
    "print(f'{N[:,1][mask]}')"
   ]
  },
  {
   "cell_type": "code",
   "execution_count": 71,
   "metadata": {
    "colab": {
     "base_uri": "https://localhost:8080/"
    },
    "id": "IZ8HYk95ocDE",
    "outputId": "8d047861-9abd-4138-ce5c-366821ca933c"
   },
   "outputs": [
    {
     "name": "stdout",
     "output_type": "stream",
     "text": [
      "[15  8 22 18 11  7 34 31 11 21 31 26 20 37 39  3 38  4 39 38 33  3  5 24\n",
      "  4  6 31 19 31  2 16 12  4 26]\n"
     ]
    }
   ],
   "source": [
    "# 11. Return values < 40 in the array\n",
    "mask2 = N < 40\n",
    "print(f'{N[mask2]}')"
   ]
  },
  {
   "cell_type": "code",
   "execution_count": null,
   "metadata": {},
   "outputs": [],
   "source": []
  },
  {
   "cell_type": "markdown",
   "metadata": {
    "id": "6Xwf9ZDLX_xp"
   },
   "source": [
    "### Solution 1.5: Run the following cell to view the solution for each of the above tasks.\n",
    "\n",
    "A new array will be generated to demonstrate the solution - the values will not be the same as your array. But the code for each task will still apply."
   ]
  },
  {
   "cell_type": "code",
   "execution_count": null,
   "metadata": {
    "colab": {
     "base_uri": "https://localhost:8080/"
    },
    "id": "15P0nIbqY8vi",
    "outputId": "f0aa2414-b800-48de-c300-d3763e4eb9fc"
   },
   "outputs": [],
   "source": [
    "# DO NOT EDIT THIS CELL\n",
    "# SOLUTION 1.3\n",
    "\n",
    "# SOLUTION: Make sure you have completed all of the above tasks\n",
    "# Generate your random numbers (NEW ARRAY)\n",
    "myarray = np.random.randint(100, size=(5, 3))\n",
    "print('The generated array: \\n', myarray)\n",
    "print('\\n')\n",
    "\n",
    "# 1. Return the first row:\n",
    "print('1. The first row: ', myarray[0])\n",
    "print('\\n')\n",
    "\n",
    "# 2. Return the last column\n",
    "print('2. The last column: ', myarray[:,-1])\n",
    "print('\\n')\n",
    "\n",
    "# 3. Return the third column values from the 4th and 5th rows\n",
    "print('3. The 3rd column, 4th & 5th rows: ', myarray[3:5,2])\n",
    "print('\\n')\n",
    "\n",
    "# 4. Multiply every value in the array by 2\n",
    "# (operates on the original array)\n",
    "print('4. Multiply by 2: \\n', myarray * 2)\n",
    "print('\\n')\n",
    "\n",
    "# 5. Divide every value by 3\n",
    "# (operates on the original array)\n",
    "print('5. Divide by 3: \\n', myarray / 3)\n",
    "print('\\n')\n",
    "\n",
    "# 6. Increase the values in the first row by 12\n",
    "# (operates on the original array)\n",
    "print('6. Add 12 to the first row: \\n', myarray[0,:] + 12)\n",
    "print('\\n')\n",
    "\n",
    "# 7. Calculate the mean of the first column\n",
    "print('7. The mean of the 1st column: ', myarray[:,0].mean())\n",
    "print('\\n')\n",
    "\n",
    "# 8. Calculate the median of the array after removing the 2 smallest values in the array\n",
    "# flatten and sort (axis=None does the flattening)\n",
    "myarray = np.sort(myarray, axis=None)\n",
    "# remove two smallest values\n",
    "myarray = myarray[2:]\n",
    "# calculate the median\n",
    "print('8. The median after removing the 2 smallest values: ', np.median(myarray))\n",
    "print('\\n')\n",
    "\n",
    "# 9. Calculate the standard deviation of the first 3 rows\n",
    "# Generate new array first:\n",
    "myarray = np.random.randint(100, size=(5, 3))\n",
    "# Then calculate the std:\n",
    "print('9. The standard deviation is: ', np.std(myarray[0:3,:]))\n",
    "print('\\n')\n",
    "\n",
    "# 10. Return values in the second column greater than 25\n",
    "# create a Boolean mask where values in the 2nd column > 25 are True\n",
    "condition = myarray[:,1] > 25\n",
    "# Apply the mask\n",
    "print('10. All values in 2nd column > 25: \\n', myarray[condition])\n",
    "print('\\n')\n",
    "\n",
    "# 11. Return values < 40 in the array\n",
    "# create another Boolean mask for values < 40\n",
    "condition = myarray < 40\n",
    "# apply the mask\n",
    "print('11. All values < 40: \\n', myarray[condition])"
   ]
  }
 ],
 "metadata": {
  "colab": {
   "provenance": []
  },
  "kernelspec": {
   "display_name": "Python 3 (ipykernel)",
   "language": "python",
   "name": "python3"
  },
  "language_info": {
   "codemirror_mode": {
    "name": "ipython",
    "version": 3
   },
   "file_extension": ".py",
   "mimetype": "text/x-python",
   "name": "python",
   "nbconvert_exporter": "python",
   "pygments_lexer": "ipython3",
   "version": "3.8.16"
  },
  "vscode": {
   "interpreter": {
    "hash": "26de051ba29f2982a8de78e945f0abaf191376122a1563185a90213a26c5da77"
   }
  }
 },
 "nbformat": 4,
 "nbformat_minor": 1
}
