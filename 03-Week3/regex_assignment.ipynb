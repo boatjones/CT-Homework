{
 "cells": [
  {
   "cell_type": "markdown",
   "metadata": {},
   "source": [
    "# Coding Temple Data Analytics Program:\n",
    "---\n",
    "## Python II Regex Assignment\n",
    "\n",
    "Use python to read the file `regex_test.txt` and print the last name on each line using regular expressions and groups (return None for names with no first and last name, or names that aren't properly capitalized)\n",
    "\n",
    "##### **Hint: use with open() and readlines()**\n",
    "\n",
    "**Expected Output:**\n",
    "\n",
    "Abraham Lincoln\n",
    "\n",
    "Andrew P Garfield\n",
    "\n",
    "Connor Milliken\n",
    "\n",
    "Jordan Alexander Williams\n",
    "\n",
    "None\n",
    "\n",
    "None"
   ]
  },
  {
   "cell_type": "code",
   "execution_count": 61,
   "metadata": {},
   "outputs": [],
   "source": [
    "import re\n",
    "\n",
    "# readlines turns every line into a list so that you can iterate through it\n",
    "with open('data/regex_test.txt', encoding='utf-8-sig') as f:\n",
    "    data = f.readlines()"
   ]
  },
  {
   "cell_type": "code",
   "execution_count": 75,
   "metadata": {},
   "outputs": [
    {
     "name": "stdout",
     "output_type": "stream",
     "text": [
      "Abraham Lincoln\n",
      "\n",
      "Andrew P Garfield\n",
      "\n",
      "Connor Milliken\n",
      "\n",
      "Jordan Alexander Williams\n",
      "\n",
      "None\n",
      "None\n"
     ]
    }
   ],
   "source": [
    "# if you want the expected output specified above\n",
    "pattern = re.compile('([A-Z][a-z]+) ([A-Z][a-z]+)*')\n",
    "\n",
    "for name in data:\n",
    "    match = pattern.match(name)\n",
    "    \n",
    "    if match:\n",
    "        print(name)\n",
    "    else:\n",
    "        print(None)"
   ]
  },
  {
   "cell_type": "code",
   "execution_count": 105,
   "metadata": {},
   "outputs": [
    {
     "name": "stdout",
     "output_type": "stream",
     "text": [
      "Abraham Lincoln\n",
      "Andrew P Garfield\n",
      "Connor Milliken\n",
      "Jordan Alexander Williams\n",
      "None\n",
      "None\n"
     ]
    }
   ],
   "source": [
    "# the above as a function\n",
    "def all_names(name_input):\n",
    "    pattern = re.compile('([A-Z][a-z]+)(.*) ([A-Z][a-z]+)*')\n",
    "    my_match = pattern.match(name_input)\n",
    "    \n",
    "    if my_match:\n",
    "        return my_match[0]\n",
    "    else:\n",
    "        return None\n",
    "for name in data:\n",
    "    print(all_names(name))"
   ]
  },
  {
   "cell_type": "code",
   "execution_count": 74,
   "metadata": {},
   "outputs": [
    {
     "name": "stdout",
     "output_type": "stream",
     "text": [
      "Lincoln\n",
      "Garfield\n",
      "Milliken\n",
      "Williams\n",
      "None\n",
      "None\n"
     ]
    }
   ],
   "source": [
    "# if you want the output specified in the directions of only the last name\n",
    "pattern = re.compile('([A-Z][a-z]+)(.*) ([A-Z][a-z]+)*')\n",
    "\n",
    "for name in data:\n",
    "    match = pattern.findall(name)\n",
    "    \n",
    "    if match:\n",
    "        print(match[0][-1])\n",
    "    else:\n",
    "        print(None)"
   ]
  },
  {
   "cell_type": "code",
   "execution_count": 106,
   "metadata": {},
   "outputs": [
    {
     "name": "stdout",
     "output_type": "stream",
     "text": [
      "Lincoln\n",
      "Garfield\n",
      "Milliken\n",
      "Williams\n",
      "None\n",
      "None\n"
     ]
    }
   ],
   "source": [
    "# the above of last names only as a function\n",
    "def lst_names(name_input):\n",
    "    pattern = re.compile('([A-Z][a-z]+)(.*) ([A-Z][a-z]+)*')\n",
    "    my_match = pattern.findall(name_input)\n",
    "    \n",
    "    if my_match:\n",
    "        return my_match[0][-1]\n",
    "    else:\n",
    "        return None\n",
    "for name in data:\n",
    "    print(lst_names(name))"
   ]
  }
 ],
 "metadata": {
  "kernelspec": {
   "display_name": "Python 3 (ipykernel)",
   "language": "python",
   "name": "python3"
  },
  "language_info": {
   "codemirror_mode": {
    "name": "ipython",
    "version": 3
   },
   "file_extension": ".py",
   "mimetype": "text/x-python",
   "name": "python",
   "nbconvert_exporter": "python",
   "pygments_lexer": "ipython3",
   "version": "3.8.16"
  }
 },
 "nbformat": 4,
 "nbformat_minor": 2
}
