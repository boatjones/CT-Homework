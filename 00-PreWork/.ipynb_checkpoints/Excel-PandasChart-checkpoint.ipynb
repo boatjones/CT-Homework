{
 "cells": [
  {
   "cell_type": "markdown",
   "id": "c509d14f",
   "metadata": {},
   "source": [
    "### Python Approach to Excel Homework\n",
    "\n",
    "Excel is a wonderful tool for creating financial models and visually working with tabular data.  As a charting tool, it is a miserable product.  That's why Tableau and PowerBI are doing well. Nevertheless, with appropriate skill, the visualizations in Tableau or PowerBI can also be done in Python with Matplotlib.  I don't care to learn more charting in Excel and will seek to create Python equivalents to any charting exercises due in Excel.\n",
    "\n",
    "Look how quickly the Excel exercise can be done in Python:"
   ]
  },
  {
   "cell_type": "code",
   "execution_count": 2,
   "id": "2819c4d9",
   "metadata": {},
   "outputs": [],
   "source": [
    "import pandas as pd\n",
    "import matplotlib.pyplot as plt\n",
    "\n",
    "df = pd.read_excel('cdp_financial_data.xlsx', sheet_name='cdp_financial_data')"
   ]
  },
  {
   "cell_type": "code",
   "execution_count": 3,
   "id": "4814ba5a",
   "metadata": {},
   "outputs": [
    {
     "name": "stdout",
     "output_type": "stream",
     "text": [
      "<class 'pandas.core.frame.DataFrame'>\n",
      "RangeIndex: 5633 entries, 0 to 5632\n",
      "Data columns (total 27 columns):\n",
      " #   Column                        Non-Null Count  Dtype         \n",
      "---  ------                        --------------  -----         \n",
      " 0   Ticker                        5633 non-null   object        \n",
      " 1   Report Date                   5633 non-null   datetime64[ns]\n",
      " 2   Currency                      5633 non-null   object        \n",
      " 3   Fiscal Year                   5633 non-null   int64         \n",
      " 4   Fiscal Period                 5633 non-null   object        \n",
      " 5   Revenue                       5497 non-null   float64       \n",
      " 6   Cost of Revenue               5022 non-null   float64       \n",
      " 7   Operating Income (Loss)       5631 non-null   float64       \n",
      " 8   Operating Expenses            5611 non-null   float64       \n",
      " 9   Depreciation & Amortization   5495 non-null   float64       \n",
      " 10  EBITDA                        5633 non-null   int64         \n",
      " 11  country_code                  699 non-null    object        \n",
      " 12  primary_ticker                699 non-null    object        \n",
      " 13  account_number                699 non-null    float64       \n",
      " 14  organization                  699 non-null    object        \n",
      " 15  survey_year                   699 non-null    float64       \n",
      " 16  response_received_date        699 non-null    object        \n",
      " 17  country                       699 non-null    object        \n",
      " 18  region                        4 non-null      object        \n",
      " 19  authority_types               699 non-null    object        \n",
      " 20  activities                    699 non-null    object        \n",
      " 21  sectors                       699 non-null    object        \n",
      " 22  industries                    699 non-null    object        \n",
      " 23  primary_activity              696 non-null    object        \n",
      " 24  primary_sector                696 non-null    object        \n",
      " 25  primary_industry              696 non-null    object        \n",
      " 26  primary_questionnaire_sector  686 non-null    object        \n",
      "dtypes: datetime64[ns](1), float64(7), int64(2), object(17)\n",
      "memory usage: 1.2+ MB\n"
     ]
    }
   ],
   "source": [
    "df.info()"
   ]
  },
  {
   "cell_type": "code",
   "execution_count": 5,
   "id": "78290dc9",
   "metadata": {},
   "outputs": [],
   "source": [
    "# divide revenue by one billion to make the plot readable\n",
    "df['RevBillions'] = df['Revenue'].div(1000000000)"
   ]
  },
  {
   "cell_type": "code",
   "execution_count": 6,
   "id": "7cdf7f48",
   "metadata": {},
   "outputs": [],
   "source": [
    "# prepare summary dataframe for plotting\n",
    "df2 = df.groupby(['Fiscal Year'])['RevBillions'].sum().to_frame()"
   ]
  },
  {
   "cell_type": "code",
   "execution_count": 7,
   "id": "87a10f1e",
   "metadata": {},
   "outputs": [
    {
     "data": {
      "text/html": [
       "<div>\n",
       "<style scoped>\n",
       "    .dataframe tbody tr th:only-of-type {\n",
       "        vertical-align: middle;\n",
       "    }\n",
       "\n",
       "    .dataframe tbody tr th {\n",
       "        vertical-align: top;\n",
       "    }\n",
       "\n",
       "    .dataframe thead th {\n",
       "        text-align: right;\n",
       "    }\n",
       "</style>\n",
       "<table border=\"1\" class=\"dataframe\">\n",
       "  <thead>\n",
       "    <tr style=\"text-align: right;\">\n",
       "      <th></th>\n",
       "      <th>RevBillions</th>\n",
       "    </tr>\n",
       "    <tr>\n",
       "      <th>Fiscal Year</th>\n",
       "      <th></th>\n",
       "    </tr>\n",
       "  </thead>\n",
       "  <tbody>\n",
       "    <tr>\n",
       "      <th>2017</th>\n",
       "      <td>12512.215486</td>\n",
       "    </tr>\n",
       "    <tr>\n",
       "      <th>2018</th>\n",
       "      <td>13306.280851</td>\n",
       "    </tr>\n",
       "    <tr>\n",
       "      <th>2019</th>\n",
       "      <td>13229.266485</td>\n",
       "    </tr>\n",
       "    <tr>\n",
       "      <th>2020</th>\n",
       "      <td>1953.089340</td>\n",
       "    </tr>\n",
       "  </tbody>\n",
       "</table>\n",
       "</div>"
      ],
      "text/plain": [
       "              RevBillions\n",
       "Fiscal Year              \n",
       "2017         12512.215486\n",
       "2018         13306.280851\n",
       "2019         13229.266485\n",
       "2020          1953.089340"
      ]
     },
     "execution_count": 7,
     "metadata": {},
     "output_type": "execute_result"
    }
   ],
   "source": [
    "df2"
   ]
  },
  {
   "cell_type": "code",
   "execution_count": 8,
   "id": "ae6fba73",
   "metadata": {},
   "outputs": [
    {
     "data": {
      "image/png": "[encoded data removed]",
      "text/plain": [
       "<Figure size 432x288 with 1 Axes>"
      ]
     },
     "metadata": {
      "needs_background": "light"
     },
     "output_type": "display_data"
    }
   ],
   "source": [
    "# In my opinion, this beats the hell out of Excel\n",
    "df2.plot(kind='bar')\n",
    "plt.show()"
   ]
  },
  {
   "cell_type": "markdown",
   "id": "8a326a16",
   "metadata": {},
   "source": [
    "I just want to get better at Matplotlib to add gridlines, titles, subplots, adjust figure size, etc."
   ]
  }
 ],
 "metadata": {
  "kernelspec": {
   "display_name": "Python 3",
   "language": "python",
   "name": "python3"
  },
  "language_info": {
   "codemirror_mode": {
    "name": "ipython",
    "version": 3
   },
   "file_extension": ".py",
   "mimetype": "text/x-python",
   "name": "python",
   "nbconvert_exporter": "python",
   "pygments_lexer": "ipython3",
   "version": "3.7.16"
  }
 },
 "nbformat": 4,
 "nbformat_minor": 5
}
