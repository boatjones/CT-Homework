{
 "cells": [
  {
   "attachments": {},
   "cell_type": "markdown",
   "metadata": {},
   "source": [
    "# Coding Temple's Data Analytics Program\n",
    "---\n",
    "## Python 1 Assignment 3\n",
    "---"
   ]
  },
  {
   "attachments": {},
   "cell_type": "markdown",
   "metadata": {},
   "source": [
    "### **Task 1: Build a Shopping Cart**\n",
    "**You can use either lists or dictionaries. The program should have the following capabilites:**\n",
    "* Takes a string as an input\n",
    "* Stores user input in a dictionary or list\n",
    "* Users should be able to:\n",
    "    * Add Items\n",
    "    * Delete Items\n",
    "    * See current shopping cart\n",
    "* The program should loop until user 'quits'\n",
    "* Upon quitting the program, print out all items in the user's list"
   ]
  },
  {
   "cell_type": "code",
   "execution_count": 7,
   "metadata": {},
   "outputs": [
    {
     "name": "stdout",
     "output_type": "stream",
     "text": [
      "Lettuce has been added to shopping chart.  Quantity: 1\n",
      "Milk has been added to shopping chart.  Quantity: 1 gallon\n",
      "Pork Chops has been added to shopping chart.  Quantity: 4\n",
      "Apples has been added to shopping chart.  Quantity: 8\n",
      "Corn Chips has been added to shopping chart.  Quantity: 2 bags\n",
      "Corn Chips was removed from your cart\n",
      "Whew.  I was worried.\n",
      "Quitting.  Here's your purchased items: {'Lettuce': '1', 'Milk': '1 gallon', 'Pork Chops': '4', 'Apples': '8'}\n"
     ]
    }
   ],
   "source": [
    "from IPython.display import clear_output\n",
    "\n",
    "# Ask the user 5 bits of input: Do you want to : Show/Add/Delete/clear or Quit?\n",
    "# YOUR CODE HERE\n",
    "\n",
    "def manage_shopping_cart():\n",
    "\n",
    "    # initialize empty shopping cart\n",
    "    shopping_cart = {}\n",
    "\n",
    "    while True:\n",
    "        choice = input(\"Show/Add/Delete/Clear or Quit\")\n",
    "        if choice.lower() == 'quit':\n",
    "            print(f\"Quitting.  Here's your purchased items: {shopping_cart}\")\n",
    "            break\n",
    "        elif choice.lower() == 'add':\n",
    "            item = input('What do you want to add?').title()\n",
    "            quantity = input('What is the quantity?')\n",
    "            shopping_cart[item] = quantity            \n",
    "            print(f\"{item} has been added to shopping chart.  Quantity: {quantity}\")\n",
    "        elif choice.lower() == 'show':\n",
    "            print(f\"Here's your current cart: {shopping_cart}\")\n",
    "        elif choice.lower() == 'delete':\n",
    "            item_to_delete = input(\"Enter the item to delete: \").title()\n",
    "\n",
    "            if item_to_delete in shopping_cart:\n",
    "                del shopping_cart[item_to_delete]\n",
    "                print(f\"{item_to_delete} was removed from your cart\")\n",
    "            else:\n",
    "                print(\"Item was not found in your cart.\")\n",
    "        elif choice.lower() == 'clear':\n",
    "            vfy = input(\"Are you really sure you want to stop shopping? Y/N\")\n",
    "            if vfy.lower == 'y':\n",
    "                shopping_cart.clear()\n",
    "                print(\"Shopping cart cleared.\")\n",
    "            else:\n",
    "                print(\"Whew.  I was worried.\")\n",
    "                continue\n",
    "        else:\n",
    "            print('You need to pick one of the 5 options')\n",
    "\n",
    "manage_shopping_cart()\n",
    "\n",
    "\n"
   ]
  },
  {
   "attachments": {},
   "cell_type": "markdown",
   "metadata": {},
   "source": [
    "### **Task 2: Create a Module and Import it**\n",
    "Create a Module in VS Code and import it into a Notebook. Use each of the functions you build in your module\n",
    "\n",
    "**Your module should have the following capabilities:**\n",
    "* Has a function to calculate the square footage of a house\n",
    "* Has a function to calculate the circumference of a circle\n",
    "* Has a function to change feet to inches"
   ]
  },
  {
   "cell_type": "code",
   "execution_count": null,
   "metadata": {},
   "outputs": [],
   "source": [
    "# external code imported in cell below\n",
    "import math\n",
    "\n",
    "def bldg_sq_ft(lgth, wdth, floors):\n",
    "    return lgth * wdth * floors\n",
    "\n",
    "def circumf(radius):\n",
    "    return radius * math.pi\n",
    "\n",
    "def inches(feet):\n",
    "    return feet * 12\n",
    "\n",
    "\n"
   ]
  },
  {
   "cell_type": "code",
   "execution_count": 15,
   "metadata": {},
   "outputs": [
    {
     "name": "stdout",
     "output_type": "stream",
     "text": [
      "A house that's 40 feet long and 25 feet wide with 4 floors has 4000 square feet.\n"
     ]
    }
   ],
   "source": [
    "import hw_module as mod\n",
    "\n",
    "lgth = 40\n",
    "wdth = 25\n",
    "floors = 4\n",
    "\n",
    "print(f\"A house that's {lgth} feet long and {wdth} feet wide with {floors} floors has {mod.bldg_sq_ft(lgth,wdth,floors)} square feet.\")"
   ]
  },
  {
   "cell_type": "code",
   "execution_count": 16,
   "metadata": {},
   "outputs": [
    {
     "name": "stdout",
     "output_type": "stream",
     "text": [
      "A circle with a radius of 23 has a circumference of 72.25663103256524\n"
     ]
    }
   ],
   "source": [
    "radius = 23\n",
    "print(f\"A circle with a radius of {radius} has a circumference of {mod.circumf(radius)}\")"
   ]
  },
  {
   "cell_type": "code",
   "execution_count": 17,
   "metadata": {},
   "outputs": [
    {
     "name": "stdout",
     "output_type": "stream",
     "text": [
      "If something is 14.5 feet, then it has 174.0 inches.  But the metric system makes more sense.\n"
     ]
    }
   ],
   "source": [
    "feet = 14.5\n",
    "print(f\"If something is {feet} feet, then it has {mod.inches(feet)} inches.  But the metric system makes more sense.\")"
   ]
  },
  {
   "attachments": {},
   "cell_type": "markdown",
   "metadata": {},
   "source": [
    "### **Task 3.1: Lists**\n",
    "Create 4 lists. Two of these lists should be keys, two of these lists should be values"
   ]
  },
  {
   "cell_type": "code",
   "execution_count": 2,
   "metadata": {},
   "outputs": [],
   "source": [
    "spirits = ['bourbon', 'scotch', 'gin', 'rum-dark', 'pastis']\n",
    "annual_consumption = [26.0, 7.23, 10.2, 22.4, 15.0]\n",
    "spirit_brands = ['Bulleit', 'Dewars', 'Tanqueray', 'Meyers', 'Ricard']\n",
    "prices = [38.5, 25.2, 32.0, 28.7, 34.2]\n"
   ]
  },
  {
   "attachments": {},
   "cell_type": "markdown",
   "metadata": {},
   "source": [
    "### **Task 3.2: Create a function that converts two lists into a dictionary, then merges two dictionaries into one.**\n",
    "\n",
    "Using your 4 lists, create a function which combines the keys lists with the values lists into a dictionary, then merges and returns the two dictionaries together."
   ]
  },
  {
   "cell_type": "code",
   "execution_count": 3,
   "metadata": {},
   "outputs": [
    {
     "data": {
      "text/plain": [
       "{'bourbon': 26.0,\n",
       " 'scotch': 7.23,\n",
       " 'gin': 10.2,\n",
       " 'rum-dark': 22.4,\n",
       " 'pastis': 15.0,\n",
       " 'Bulleit': 38.5,\n",
       " 'Dewars': 25.2,\n",
       " 'Tanqueray': 32.0,\n",
       " 'Meyers': 28.7,\n",
       " 'Ricard': 34.2}"
      ]
     },
     "execution_count": 3,
     "metadata": {},
     "output_type": "execute_result"
    }
   ],
   "source": [
    "def dict_make(k,v):\n",
    "    \"\"\" Helper function to make a dictionary from two \n",
    "        equal length lists\n",
    "    Params:\n",
    "    k - list of keys\n",
    "    v - list of values  \n",
    "    \n",
    "    Return: Dictionary of keys & values    \n",
    "    \"\"\"    \n",
    "    d = {}\n",
    "    if len(k) == len(v):\n",
    "        for i in range(len(k)):\n",
    "            d[k[i]] = v[i]\n",
    "    else:\n",
    "        print(\"Error: Two lists of unequal length for dictionary.\")\n",
    "\n",
    "    return d\n",
    "\n",
    "def dict_merge(k1, v1, k2, v2):\n",
    "    \"\"\" Function to merge two dictionaries into one from four lists\n",
    "    Parms:\n",
    "    k1 - list of keys for first dictionary\n",
    "    v1 - list of values for first dictionary\n",
    "    k2 - list of keys for second dictionary\n",
    "    v2 - list of values for second dictionary\n",
    "\n",
    "    Depenencies:\n",
    "    Helper function: dict_make()\n",
    "\n",
    "    Return: Single dictionary\n",
    "    \"\"\"\n",
    "    d_1 = dict_make(k1, v1)\n",
    "    d_2 = dict_make(k2, v2)\n",
    "    return d_1 | d_2\n",
    "\n",
    "dict_merge(spirits, annual_consumption, spirit_brands, prices)\n"
   ]
  }
 ],
 "metadata": {
  "kernelspec": {
   "display_name": "Python 3",
   "language": "python",
   "name": "python3"
  },
  "language_info": {
   "codemirror_mode": {
    "name": "ipython",
    "version": 3
   },
   "file_extension": ".py",
   "mimetype": "text/x-python",
   "name": "python",
   "nbconvert_exporter": "python",
   "pygments_lexer": "ipython3",
   "version": "3.11.4"
  },
  "orig_nbformat": 4,
  "vscode": {
   "interpreter": {
    "hash": "26de051ba29f2982a8de78e945f0abaf191376122a1563185a90213a26c5da77"
   }
  }
 },
 "nbformat": 4,
 "nbformat_minor": 2
}
