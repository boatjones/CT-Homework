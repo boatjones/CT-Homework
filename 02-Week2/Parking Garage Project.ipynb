{
 "cells": [
  {
   "cell_type": "markdown",
   "metadata": {},
   "source": [
    "# Parking Garage Project\n",
    "\n",
    "Your assignment for today is to create a parking garage class to get more familiar with Object Oriented Programming(OOP). \n",
    "\n",
    "Your parking gargage class should have the following methods:\n",
    "- takeTicket\n",
    "   - This should decrease the amount of tickets available by 1\n",
    "   - This should decrease the amount of parkingSpaces available by 1\n",
    "- payForParking\n",
    "   - Display an input that waits for an amount from the user and store it in a variable\n",
    "   - If the payment variable is not empty then ->  display a message to the user that their ticket has been paid and they have 15mins to leave\n",
    "   - This should update the \"currentTicket\" dictionary key \"paid\" to True\n",
    "\n",
    "-leaveGarage\n",
    "   - If the ticket has been paid, display a message of \"Thank You, have a nice day\"\n",
    "   - If the ticket has not been paid, display an input prompt for payment\n",
    "      - Once paid, display message \"Thank you, have a nice day!\"\n",
    "   - Update parkingSpaces list to increase by 1\n",
    "   - Update tickets list to increase by 1\n",
    "\n",
    "You will need a few attributes as well:\n",
    "- tickets -> list\n",
    "- parkingSpaces -> list\n",
    "- currentTicket -> dictionary"
   ]
  },
  {
   "cell_type": "code",
   "execution_count": 32,
   "metadata": {},
   "outputs": [],
   "source": [
    "# Your Code will go here\n",
    "class Garage:\n",
    "    \"\"\"\n",
    "    Class to run a test parking garage as an OOP test.  \n",
    "    Params: none\n",
    "    Output: none   \n",
    "    \"\"\"\n",
    "    \n",
    "    def __init__(self):\n",
    "        self.parking_spaces = 50\n",
    "        self.tickets = 50\n",
    "        self.current_ticket = {}\n",
    "\n",
    "    def __repr__(self):\n",
    "        return \"The parking spaces available are {}. \".format(self.parking_spaces)\n",
    "\n",
    "    def takeTicket(self):\n",
    "        self.parking_spaces -= 1\n",
    "        self.tickets -= 1\n",
    "        self.current_ticket['Amount'] = 0\n",
    "        self.current_ticket['Paid'] = False\n",
    "        return self.parking_spaces\n",
    "\n",
    "    def payForParking(self):\n",
    "        \"\"\"\n",
    "        Method combines functions of payForParking() and leaveGarage()\n",
    "        It is safely assumed that one leaves the garage immediately after paying for the parking.\n",
    "        \"\"\"\n",
    "        \n",
    "        price_per_hour = 8.00\n",
    "        parking_time = input(\"How many hours has your vehicle been here?\")\n",
    "        self.current_ticket['Amount'] = float(parking_time) * price_per_hour\n",
    "        print(\"Your current amount is {}\".format(self.current_ticket['Amount']))\n",
    "        pay = input(\"Pay this amount? Y/N\")\n",
    "        if pay.lower() == 'y':\n",
    "            self.current_ticket['Paid'] = True\n",
    "            self.tickets += 1\n",
    "            self.parking_spaces += 1\n",
    "            print(\"Thank you for parking with us!\")\n",
    "        else:\n",
    "            print(\"Dude, we have your car.\")\n",
    "\n"
   ]
  },
  {
   "cell_type": "code",
   "execution_count": 33,
   "metadata": {},
   "outputs": [],
   "source": [
    "test = Garage()"
   ]
  },
  {
   "cell_type": "code",
   "execution_count": 34,
   "metadata": {},
   "outputs": [
    {
     "data": {
      "text/plain": [
       "The parking spaces available are 50. "
      ]
     },
     "execution_count": 34,
     "metadata": {},
     "output_type": "execute_result"
    }
   ],
   "source": [
    "test"
   ]
  },
  {
   "cell_type": "code",
   "execution_count": null,
   "metadata": {},
   "outputs": [],
   "source": []
  },
  {
   "cell_type": "code",
   "execution_count": 35,
   "metadata": {},
   "outputs": [
    {
     "data": {
      "text/plain": [
       "49"
      ]
     },
     "execution_count": 35,
     "metadata": {},
     "output_type": "execute_result"
    }
   ],
   "source": [
    "test.takeTicket()\n"
   ]
  },
  {
   "cell_type": "code",
   "execution_count": 36,
   "metadata": {},
   "outputs": [
    {
     "name": "stdout",
     "output_type": "stream",
     "text": [
      "Your current amount is 32.0\n",
      "Thank you for parking with us!\n"
     ]
    }
   ],
   "source": [
    "test.payForParking()"
   ]
  }
 ],
 "metadata": {
  "kernelspec": {
   "display_name": "Python 3 (ipykernel)",
   "language": "python",
   "name": "python3"
  },
  "language_info": {
   "codemirror_mode": {
    "name": "ipython",
    "version": 3
   },
   "file_extension": ".py",
   "mimetype": "text/x-python",
   "name": "python",
   "nbconvert_exporter": "python",
   "pygments_lexer": "ipython3",
   "version": "3.8.16"
  }
 },
 "nbformat": 4,
 "nbformat_minor": 2
}
