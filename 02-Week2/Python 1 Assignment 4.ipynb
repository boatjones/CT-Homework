{
 "cells": [
  {
   "attachments": {},
   "cell_type": "markdown",
   "metadata": {},
   "source": [
    "# Coding Temple's Data Analytics Program\n",
    "---\n",
    "## Python Basics Assignment 4\n",
    "---"
   ]
  },
  {
   "attachments": {},
   "cell_type": "markdown",
   "metadata": {},
   "source": [
    "### **Task 1: Update Shopping Cart**\n",
    "Using the shopping cart you created yesterday as a blueprint, create a shopping cart using object-oriented programming. This shopping cart should maintain all functionality that you currently have in your blueprint."
   ]
  },
  {
   "cell_type": "code",
   "execution_count": 4,
   "metadata": {},
   "outputs": [],
   "source": [
    "# YOUR CODE HERE\n",
    "class ManageShoppingCart:\n",
    "    def __init__(self, shopping_cart={}):\n",
    "        self.shopping_cart = shopping_cart\n",
    "\n",
    "    def __repr__(self):\n",
    "        print(f\"Here's the current cart: {self.shopping_cart}\")\n",
    "\n",
    "    def add_to_cart(self):\n",
    "        item = input('What do you want to add?').title()\n",
    "        quantity = input('What is the quantity?')\n",
    "        self.shopping_cart[item] = quantity\n",
    "        print(f\"{item} has been added to shopping chart.  Quantity: {quantity}\")\n",
    "\n",
    "    def show_cart(self):\n",
    "        print(f\"Here's your current cart: {self.shopping_cart}\")\n",
    "\n",
    "    def delete_from_cart(self):\n",
    "        item = input(\"Enter the item to delete: \").title()\n",
    "        if item in self.shopping_cart:\n",
    "            del self.shopping_cart[item]\n",
    "            print(f\"{item} was removed from your cart\")\n",
    "        else:\n",
    "            print(\"Item was not found in your cart\")\n",
    "\n",
    "    def clear_cart(self):\n",
    "        vfy = input(\"Are you really sure you want to stop shopping? Y/N\")\n",
    "        if vfy.lower == 'y':\n",
    "            self.shopping_cart.clear()\n",
    "            print(\"Shopping cart cleared.\")\n",
    "        else:\n",
    "            print(\"Whew.  I was worried.\")\n"
   ]
  },
  {
   "cell_type": "code",
   "execution_count": 5,
   "metadata": {},
   "outputs": [
    {
     "name": "stdout",
     "output_type": "stream",
     "text": [
      "Bananas has been added to shopping chart.  Quantity: 1 bunch\n",
      "Pickles has been added to shopping chart.  Quantity: 1 jar\n",
      "Lamb Stew Meat has been added to shopping chart.  Quantity: 2 pounds\n",
      "Here's your current cart: {'Bananas': '1 bunch', 'Pickles': '1 jar', 'Lamb Stew Meat': '2 pounds'}\n",
      "Pickles was removed from your cart\n",
      "Whew.  I was worried.\n",
      "Here's your current cart: {'Bananas': '1 bunch', 'Lamb Stew Meat': '2 pounds'}\n",
      "Thanks for shopping with us!\n"
     ]
    }
   ],
   "source": [
    "shopping_bag = ManageShoppingCart()\n",
    "\n",
    "def run():\n",
    "    while True:\n",
    "        response = input(\"What would you like to do? Show/Add/Delete/Clear or Quit\")\n",
    "\n",
    "        if response.lower() == 'quit':\n",
    "            shopping_bag.show_cart()\n",
    "            print(\"Thanks for shopping with us!\")\n",
    "            break\n",
    "        elif response.lower() == 'show':\n",
    "            shopping_bag.show_cart()\n",
    "        elif response.lower() == 'add':\n",
    "            shopping_bag.add_to_cart()\n",
    "        elif response.lower() == 'delete':\n",
    "            shopping_bag.delete_from_cart()\n",
    "        elif response.lower() == 'clear':\n",
    "            shopping_bag.clear_cart()\n",
    "\n",
    "run()"
   ]
  },
  {
   "attachments": {},
   "cell_type": "markdown",
   "metadata": {},
   "source": [
    "### **Task 2: String Class**\n",
    "Write a class which has the following two methods:\n",
    "* `get_string`: Accepts a string input from the user\n",
    "* `print_string`: Prints the string all in upper-case"
   ]
  },
  {
   "cell_type": "code",
   "execution_count": 10,
   "metadata": {},
   "outputs": [],
   "source": [
    "# YOUR CODE HERE\n",
    "class StringGames:\n",
    "    def __init__(self, stng):\n",
    "        self.stng = stng\n",
    "\n",
    "    def __repr__(self):\n",
    "        print(f\"The class object is working with this string: '{self.stng}'\")\n",
    "\n",
    "    def get_string(self):\n",
    "        self.stng = input(\"See if you can give me an even sillier string!\")\n",
    "\n",
    "    def print_string(self):\n",
    "        print(self.stng.upper())\n"
   ]
  },
  {
   "cell_type": "code",
   "execution_count": 12,
   "metadata": {},
   "outputs": [],
   "source": [
    "silly_string = StringGames(\"Bananas dancing in top hats with monocles!\")"
   ]
  },
  {
   "cell_type": "code",
   "execution_count": 13,
   "metadata": {},
   "outputs": [],
   "source": [
    "silly_string.get_string()"
   ]
  },
  {
   "cell_type": "code",
   "execution_count": 14,
   "metadata": {},
   "outputs": [
    {
     "name": "stdout",
     "output_type": "stream",
     "text": [
      "CATS IN ORANGE PAJAMAS SERVING MARMALADE ON TOAST\n"
     ]
    }
   ],
   "source": [
    "silly_string.print_string()"
   ]
  },
  {
   "attachments": {},
   "cell_type": "markdown",
   "metadata": {},
   "source": [
    "### **Task 3: Activities**\n",
    "Create a class that depicts your favorite activity. Add in attributes that are associated with that activity in you `__init__` call. Also, create three functions that are associated with the activity.\n",
    "\n",
    "**Example:**\n",
    "If I chose football, I may have a FootballPlayer class with attributes such as:\n",
    "* `self.speed`\n",
    "* `self.strength`\n",
    "* `self.position`\n",
    "\n",
    "and methods such as:\n",
    "* `def pass_ball`\n",
    "* `def run`\n",
    "* `def faster_than_x`"
   ]
  },
  {
   "cell_type": "code",
   "execution_count": 29,
   "metadata": {},
   "outputs": [],
   "source": [
    "class Motorcycling:\n",
    "    def __init__(self, make, model, fairing:bool, panniers:bool, mpg):\n",
    "        self.make = make\n",
    "        self.model = model\n",
    "        self.fairing = fairing\n",
    "        self.panniers = panniers\n",
    "        self.gallons = 6\n",
    "        self.mpg = mpg\n",
    "\n",
    "    def __repr__(self):\n",
    "        if self.fairing:\n",
    "            fair_feat = 'has a fairing'\n",
    "        else:\n",
    "            fair_feat = 'does not have a fairing'\n",
    "\n",
    "        if self.panniers:\n",
    "            pann_feat = 'has touring panniers'\n",
    "        else:\n",
    "            pann_feat = 'does not have touring panniers'\n",
    "\n",
    "        return \"This motorcycle is a {} {} and {} and {} currently with {} gallons in the tank. It gets {} MPG\".format(self.make, self.model, fair_feat, pann_feat, self.gallons, self.mpg)\n",
    "\n",
    "    def fill_tank(self, gallons):\n",
    "        self.gallons += gallons\n",
    "\n",
    "    def take_trip(self, miles):\n",
    "        gals_used = miles / self.mpg\n",
    "        if self.gallons - gals_used > 0:\n",
    "            self.gallons -= gals_used\n",
    "            print(f\"Hope you enjoyed your trip, you now have {self.gallons} gallons left in the tank.\")\n",
    "        else:\n",
    "            range = self.gallons * self.mpg\n",
    "            print(f\"You only have {range} miles in the tank.  You'll have to fill up then.\")\n",
    "            self.gallons = 0\n",
    "\n"
   ]
  },
  {
   "attachments": {},
   "cell_type": "markdown",
   "metadata": {},
   "source": [
    "### **Task 4: Test Your Class!**\n",
    "Now that you created your class, let's create an instance of your class. In the cell below, instantiate a Class Object, then test each of your class methods on that object."
   ]
  },
  {
   "cell_type": "code",
   "execution_count": 30,
   "metadata": {},
   "outputs": [],
   "source": [
    "my_bike = Motorcycling('BMW', '1200RT', True, True, 35)"
   ]
  },
  {
   "cell_type": "code",
   "execution_count": 24,
   "metadata": {},
   "outputs": [
    {
     "data": {
      "text/plain": [
       "This motorcycle is a BMW 1200RT and has a fairing and has touring panniers currently with 6 gallons in the tank. It gets 35 MPG"
      ]
     },
     "execution_count": 24,
     "metadata": {},
     "output_type": "execute_result"
    }
   ],
   "source": [
    "my_bike"
   ]
  },
  {
   "cell_type": "code",
   "execution_count": 31,
   "metadata": {},
   "outputs": [
    {
     "name": "stdout",
     "output_type": "stream",
     "text": [
      "Hope you enjoyed your trip, you now have 0.2857142857142856 gallons left in the tank.\n"
     ]
    }
   ],
   "source": [
    "my_bike.take_trip(200)"
   ]
  },
  {
   "cell_type": "code",
   "execution_count": 26,
   "metadata": {},
   "outputs": [
    {
     "data": {
      "text/plain": [
       "This motorcycle is a BMW 1200RT and has a fairing and has touring panniers currently with 0.2857142857142856 gallons in the tank. It gets 35 MPG"
      ]
     },
     "execution_count": 26,
     "metadata": {},
     "output_type": "execute_result"
    }
   ],
   "source": [
    "my_bike"
   ]
  },
  {
   "cell_type": "code",
   "execution_count": 27,
   "metadata": {},
   "outputs": [],
   "source": [
    "my_bike.fill_tank(6)"
   ]
  },
  {
   "cell_type": "code",
   "execution_count": 28,
   "metadata": {},
   "outputs": [
    {
     "data": {
      "text/plain": [
       "This motorcycle is a BMW 1200RT and has a fairing and has touring panniers currently with 6.285714285714286 gallons in the tank. It gets 35 MPG"
      ]
     },
     "execution_count": 28,
     "metadata": {},
     "output_type": "execute_result"
    }
   ],
   "source": [
    "my_bike"
   ]
  }
 ],
 "metadata": {
  "kernelspec": {
   "display_name": "Python 3",
   "language": "python",
   "name": "python3"
  },
  "language_info": {
   "codemirror_mode": {
    "name": "ipython",
    "version": 3
   },
   "file_extension": ".py",
   "mimetype": "text/x-python",
   "name": "python",
   "nbconvert_exporter": "python",
   "pygments_lexer": "ipython3",
   "version": "3.11.4"
  },
  "orig_nbformat": 4,
  "vscode": {
   "interpreter": {
    "hash": "26de051ba29f2982a8de78e945f0abaf191376122a1563185a90213a26c5da77"
   }
  }
 },
 "nbformat": 4,
 "nbformat_minor": 2
}
