{
 "cells": [
  {
   "cell_type": "markdown",
   "metadata": {},
   "source": [
    "# Coding Temple's Data Analytics Program\n",
    "---\n",
    "## Intro to API's Assignment\n",
    "---\n",
    "### Problem 1:\n",
    "Check out this Pokemon API https://pokeapi.co/\n",
    "Use the requests package to connect to this API and get and store data for 5 different pokemon.\n",
    "Get the pokemons: name, atleast one ability's name, base_experience, and the URL for its sprite (an image that shows up on screen) for the 'front_shiny', attack base_state, hp base_stat, defense base_stat\n",
    "\n",
    "**BONUS POINTS IF YOU CAN POPULATE THE IMAGE!**"
   ]
  },
  {
   "cell_type": "code",
   "execution_count": 66,
   "metadata": {},
   "outputs": [],
   "source": [
    "import requests, json\n",
    "import pandas as pd\n",
    "# from PIL import Image\n",
    "# from io import BytesIO\n",
    "from IPython.display import Image"
   ]
  },
  {
   "cell_type": "code",
   "execution_count": 7,
   "metadata": {},
   "outputs": [],
   "source": [
    "url = 'https://pokeapi.co/api/v2/pokemon/'\n",
    "response = requests.get(url)"
   ]
  },
  {
   "cell_type": "code",
   "execution_count": 37,
   "metadata": {},
   "outputs": [
    {
     "data": {
      "text/plain": [
       "{'count': 1292,\n",
       " 'next': 'https://pokeapi.co/api/v2/pokemon/?offset=20&limit=20',\n",
       " 'previous': None,\n",
       " 'results': [{'name': 'bulbasaur',\n",
       "   'url': 'https://pokeapi.co/api/v2/pokemon/1/'},\n",
       "  {'name': 'ivysaur', 'url': 'https://pokeapi.co/api/v2/pokemon/2/'},\n",
       "  {'name': 'venusaur', 'url': 'https://pokeapi.co/api/v2/pokemon/3/'},\n",
       "  {'name': 'charmander', 'url': 'https://pokeapi.co/api/v2/pokemon/4/'},\n",
       "  {'name': 'charmeleon', 'url': 'https://pokeapi.co/api/v2/pokemon/5/'},\n",
       "  {'name': 'charizard', 'url': 'https://pokeapi.co/api/v2/pokemon/6/'},\n",
       "  {'name': 'squirtle', 'url': 'https://pokeapi.co/api/v2/pokemon/7/'},\n",
       "  {'name': 'wartortle', 'url': 'https://pokeapi.co/api/v2/pokemon/8/'},\n",
       "  {'name': 'blastoise', 'url': 'https://pokeapi.co/api/v2/pokemon/9/'},\n",
       "  {'name': 'caterpie', 'url': 'https://pokeapi.co/api/v2/pokemon/10/'},\n",
       "  {'name': 'metapod', 'url': 'https://pokeapi.co/api/v2/pokemon/11/'},\n",
       "  {'name': 'butterfree', 'url': 'https://pokeapi.co/api/v2/pokemon/12/'},\n",
       "  {'name': 'weedle', 'url': 'https://pokeapi.co/api/v2/pokemon/13/'},\n",
       "  {'name': 'kakuna', 'url': 'https://pokeapi.co/api/v2/pokemon/14/'},\n",
       "  {'name': 'beedrill', 'url': 'https://pokeapi.co/api/v2/pokemon/15/'},\n",
       "  {'name': 'pidgey', 'url': 'https://pokeapi.co/api/v2/pokemon/16/'},\n",
       "  {'name': 'pidgeotto', 'url': 'https://pokeapi.co/api/v2/pokemon/17/'},\n",
       "  {'name': 'pidgeot', 'url': 'https://pokeapi.co/api/v2/pokemon/18/'},\n",
       "  {'name': 'rattata', 'url': 'https://pokeapi.co/api/v2/pokemon/19/'},\n",
       "  {'name': 'raticate', 'url': 'https://pokeapi.co/api/v2/pokemon/20/'}]}"
      ]
     },
     "execution_count": 37,
     "metadata": {},
     "output_type": "execute_result"
    }
   ],
   "source": [
    "# Basic call just to display the names available to pick from\n",
    "response.json()"
   ]
  },
  {
   "cell_type": "code",
   "execution_count": 117,
   "metadata": {},
   "outputs": [
    {
     "name": "stdout",
     "output_type": "stream",
     "text": [
      "[55, 81, 60, 50, 70, 97]\n"
     ]
    }
   ],
   "source": [
    "'''\n",
    "    Helper function to get stats of character based on URI\n",
    "    Originally created for Problem 3 but now elevated to use in Problem 1 & 2 as well.  \n",
    "    Input: Character's URI.json\n",
    "    Output: List of characters stats\n",
    "'''\n",
    "\n",
    "def stat_get(json):\n",
    "    for i in range(len(json['stats'])):\n",
    "        if json['stats'][i]['stat']['name'] == 'hp':\n",
    "            hp = json['stats'][i]['base_stat']\n",
    "        elif json['stats'][i]['stat']['name'] == 'attack':\n",
    "            attack = json['stats'][i]['base_stat']\n",
    "        elif json['stats'][i]['stat']['name'] == 'defense':\n",
    "            defense = json['stats'][i]['base_stat']\n",
    "        elif json['stats'][i]['stat']['name'] == 'special-attack':\n",
    "            spec_attack = json['stats'][i]['base_stat']\n",
    "        elif json['stats'][i]['stat']['name'] == 'special-defense':\n",
    "            spec_defense = json['stats'][i]['base_stat']\n",
    "        elif json['stats'][i]['stat']['name'] == 'speed':\n",
    "            speed = json['stats'][i]['base_stat']\n",
    "    return [hp, attack, defense, spec_attack, spec_defense, speed]\n",
    "                                     \n",
    "print(stat_get(response2.json()))\n",
    "                                  "
   ]
  },
  {
   "cell_type": "code",
   "execution_count": 126,
   "metadata": {},
   "outputs": [
    {
     "name": "stdout",
     "output_type": "stream",
     "text": [
      "\n",
      "The character Bulbasaur, has these abilities ['overgrow', 'chlorophyll'], this base experience: 64\n",
      "their attack stats are 49, hp stats 45, defense stats 49\n",
      "Their sprite image is https://raw.githubusercontent.com/PokeAPI/sprites/master/sprites/pokemon/shiny/1.png\n",
      "...and it looks like this: \n"
     ]
    },
    {
     "data": {
      "text/html": [
       "<img src=\"https://raw.githubusercontent.com/PokeAPI/sprites/master/sprites/pokemon/shiny/1.png\"/>"
      ],
      "text/plain": [
       "<IPython.core.display.Image object>"
      ]
     },
     "metadata": {},
     "output_type": "display_data"
    },
    {
     "name": "stdout",
     "output_type": "stream",
     "text": [
      "\n",
      "The character Weedle, has these abilities ['shield-dust', 'run-away'], this base experience: 39\n",
      "their attack stats are 35, hp stats 40, defense stats 30\n",
      "Their sprite image is https://raw.githubusercontent.com/PokeAPI/sprites/master/sprites/pokemon/shiny/13.png\n",
      "...and it looks like this: \n"
     ]
    },
    {
     "data": {
      "text/html": [
       "<img src=\"https://raw.githubusercontent.com/PokeAPI/sprites/master/sprites/pokemon/shiny/13.png\"/>"
      ],
      "text/plain": [
       "<IPython.core.display.Image object>"
      ]
     },
     "metadata": {},
     "output_type": "display_data"
    },
    {
     "name": "stdout",
     "output_type": "stream",
     "text": [
      "\n",
      "The character Squirtle, has these abilities ['torrent', 'rain-dish'], this base experience: 63\n",
      "their attack stats are 48, hp stats 44, defense stats 65\n",
      "Their sprite image is https://raw.githubusercontent.com/PokeAPI/sprites/master/sprites/pokemon/shiny/7.png\n",
      "...and it looks like this: \n"
     ]
    },
    {
     "data": {
      "text/html": [
       "<img src=\"https://raw.githubusercontent.com/PokeAPI/sprites/master/sprites/pokemon/shiny/7.png\"/>"
      ],
      "text/plain": [
       "<IPython.core.display.Image object>"
      ]
     },
     "metadata": {},
     "output_type": "display_data"
    },
    {
     "name": "stdout",
     "output_type": "stream",
     "text": [
      "\n",
      "The character Pidgeotto, has these abilities ['keen-eye', 'tangled-feet', 'big-pecks'], this base experience: 122\n",
      "their attack stats are 60, hp stats 63, defense stats 55\n",
      "Their sprite image is https://raw.githubusercontent.com/PokeAPI/sprites/master/sprites/pokemon/shiny/17.png\n",
      "...and it looks like this: \n"
     ]
    },
    {
     "data": {
      "text/html": [
       "<img src=\"https://raw.githubusercontent.com/PokeAPI/sprites/master/sprites/pokemon/shiny/17.png\"/>"
      ],
      "text/plain": [
       "<IPython.core.display.Image object>"
      ]
     },
     "metadata": {},
     "output_type": "display_data"
    },
    {
     "name": "stdout",
     "output_type": "stream",
     "text": [
      "\n",
      "The character Wartortle, has these abilities ['torrent', 'rain-dish'], this base experience: 142\n",
      "their attack stats are 63, hp stats 59, defense stats 80\n",
      "Their sprite image is https://raw.githubusercontent.com/PokeAPI/sprites/master/sprites/pokemon/shiny/8.png\n",
      "...and it looks like this: \n"
     ]
    },
    {
     "data": {
      "text/html": [
       "<img src=\"https://raw.githubusercontent.com/PokeAPI/sprites/master/sprites/pokemon/shiny/8.png\"/>"
      ],
      "text/plain": [
       "<IPython.core.display.Image object>"
      ]
     },
     "metadata": {},
     "output_type": "display_data"
    }
   ],
   "source": [
    "'''\n",
    "    Function to take a Pokemon character name and display the various characteristics\n",
    "    and stats associated with it.\n",
    "    Input: character name\n",
    "    Output: character stats\n",
    "'''\n",
    "def pokemon_stats(name):\n",
    "    uri = ''\n",
    "    for i in range(len(response.json()['results'])):\n",
    "        if response.json()['results'][i]['name'] == name:\n",
    "            uri = response.json()['results'][i]['url']\n",
    "    response2 = requests.get(uri)\n",
    "    # abilities\n",
    "    abilities = []\n",
    "    for i in range(len(response2.json()['abilities'])):\n",
    "        abilities.append(response2.json()['abilities'][i]['ability']['name'])\n",
    "    # base experience\n",
    "    base_experience = response2.json()['base_experience']\n",
    "    # sprite image\n",
    "    sprite_image = response2.json()['sprites']['front_shiny']\n",
    "    \n",
    "    # output section\n",
    "    print(f'\\nThe character {name.title()}, has these abilities {abilities}, this base experience: {base_experience}')\n",
    "    print(f'their attack stats are {stat_get(response2.json())[1]}, hp stats {stat_get(response2.json())[0]}, defense stats {stat_get(response2.json())[2]}')\n",
    "    print(f'Their sprite image is {sprite_image}')\n",
    "    print('...and it looks like this: ')\n",
    "    display(Image(url=sprite_image))\n",
    "    \n",
    "# function calls for 5 characters   \n",
    "pokemon_stats('bulbasaur')\n",
    "pokemon_stats('weedle')\n",
    "pokemon_stats('squirtle')\n",
    "pokemon_stats('pidgeotto')\n",
    "pokemon_stats('wartortle')\n",
    "    "
   ]
  },
  {
   "cell_type": "markdown",
   "metadata": {},
   "source": [
    "### Problem 2:\n",
    "\n",
    "I want to build the best Pokemon team I can and I need your help to do so! Using the API, build me a team of 6 pokemon who's base-stats are above 60. Return any additional information you think is needed to help understand why you chose that pokemon for the team!"
   ]
  },
  {
   "cell_type": "code",
   "execution_count": 104,
   "metadata": {},
   "outputs": [
    {
     "data": {
      "text/plain": [
       "[{'base_stat': 55,\n",
       "  'effort': 0,\n",
       "  'stat': {'name': 'hp', 'url': 'https://pokeapi.co/api/v2/stat/1/'}},\n",
       " {'base_stat': 81,\n",
       "  'effort': 0,\n",
       "  'stat': {'name': 'attack', 'url': 'https://pokeapi.co/api/v2/stat/2/'}},\n",
       " {'base_stat': 60,\n",
       "  'effort': 0,\n",
       "  'stat': {'name': 'defense', 'url': 'https://pokeapi.co/api/v2/stat/3/'}},\n",
       " {'base_stat': 50,\n",
       "  'effort': 0,\n",
       "  'stat': {'name': 'special-attack',\n",
       "   'url': 'https://pokeapi.co/api/v2/stat/4/'}},\n",
       " {'base_stat': 70,\n",
       "  'effort': 0,\n",
       "  'stat': {'name': 'special-defense',\n",
       "   'url': 'https://pokeapi.co/api/v2/stat/5/'}},\n",
       " {'base_stat': 97,\n",
       "  'effort': 2,\n",
       "  'stat': {'name': 'speed', 'url': 'https://pokeapi.co/api/v2/stat/6/'}}]"
      ]
     },
     "execution_count": 104,
     "metadata": {},
     "output_type": "execute_result"
    }
   ],
   "source": [
    "# raw output of a random player's stats\n",
    "response2.json()['stats']"
   ]
  },
  {
   "cell_type": "code",
   "execution_count": 129,
   "metadata": {},
   "outputs": [
    {
     "name": "stdout",
     "output_type": "stream",
     "text": [
      "Bulbasaur hp: 45 attack: 49 def: 49 spec-at: 65 spec-def: 65 speed: 45\n"
     ]
    }
   ],
   "source": [
    "'''\n",
    "    Function to list all of the stats of a player given the name\n",
    "    Input: player name\n",
    "    Output: player's stats\n",
    "'''\n",
    "def list_stats(name):\n",
    "    uri = ''\n",
    "    for i in range(len(response.json()['results'])):\n",
    "        if response.json()['results'][i]['name'] == name:\n",
    "            uri = response.json()['results'][i]['url']\n",
    "    response2 = requests.get(uri)\n",
    "    json = response2.json()\n",
    "    print(f'{name.title()} hp: {stat_get(json)[0]} attack: {stat_get(json)[1]} def: {stat_get(json)[2]} spec-at: {stat_get(json)[3]} spec-def: {stat_get(json)[4]} speed: {stat_get(json)[5]}')\n",
    "    \n",
    "list_stats('bulbasaur')"
   ]
  },
  {
   "cell_type": "code",
   "execution_count": 130,
   "metadata": {},
   "outputs": [
    {
     "name": "stdout",
     "output_type": "stream",
     "text": [
      "Bulbasaur hp: 45 attack: 49 def: 49 spec-at: 65 spec-def: 65 speed: 45\n",
      "Ivysaur hp: 60 attack: 62 def: 63 spec-at: 80 spec-def: 80 speed: 60\n",
      "Venusaur hp: 80 attack: 82 def: 83 spec-at: 100 spec-def: 100 speed: 80\n",
      "Charmander hp: 39 attack: 52 def: 43 spec-at: 60 spec-def: 50 speed: 65\n",
      "Charmeleon hp: 58 attack: 64 def: 58 spec-at: 80 spec-def: 65 speed: 80\n",
      "Charizard hp: 78 attack: 84 def: 78 spec-at: 109 spec-def: 85 speed: 100\n",
      "Squirtle hp: 44 attack: 48 def: 65 spec-at: 50 spec-def: 64 speed: 43\n",
      "Wartortle hp: 59 attack: 63 def: 80 spec-at: 65 spec-def: 80 speed: 58\n",
      "Blastoise hp: 79 attack: 83 def: 100 spec-at: 85 spec-def: 105 speed: 78\n",
      "Caterpie hp: 45 attack: 30 def: 35 spec-at: 20 spec-def: 20 speed: 45\n",
      "Metapod hp: 50 attack: 20 def: 55 spec-at: 25 spec-def: 25 speed: 30\n",
      "Butterfree hp: 60 attack: 45 def: 50 spec-at: 90 spec-def: 80 speed: 70\n",
      "Weedle hp: 40 attack: 35 def: 30 spec-at: 20 spec-def: 20 speed: 50\n",
      "Kakuna hp: 45 attack: 25 def: 50 spec-at: 25 spec-def: 25 speed: 35\n",
      "Beedrill hp: 65 attack: 90 def: 40 spec-at: 45 spec-def: 80 speed: 75\n",
      "Pidgey hp: 40 attack: 45 def: 40 spec-at: 35 spec-def: 35 speed: 56\n",
      "Pidgeotto hp: 63 attack: 60 def: 55 spec-at: 50 spec-def: 50 speed: 71\n",
      "Pidgeot hp: 83 attack: 80 def: 75 spec-at: 70 spec-def: 70 speed: 101\n",
      "Rattata hp: 30 attack: 56 def: 35 spec-at: 25 spec-def: 35 speed: 72\n",
      "Raticate hp: 55 attack: 81 def: 60 spec-at: 50 spec-def: 70 speed: 97\n"
     ]
    }
   ],
   "source": [
    "'''\n",
    "    Function to go through all the players to list their stats\n",
    "    in order to choose the best team\n",
    "'''\n",
    "def player_stats():\n",
    "    for i in range(len(response.json()['results'])):\n",
    "        list_stats(response.json()['results'][i]['name'])\n",
    "        \n",
    "player_stats()        "
   ]
  },
  {
   "cell_type": "markdown",
   "metadata": {},
   "source": [
    "#### Team Selection\n"
   ]
  },
  {
   "cell_type": "markdown",
   "metadata": {},
   "source": [
    "Not knowing anything about Pokemon, the mention that I am to chose the best 6 players and that it coincides with the \n",
    "fact that there are 6 individual statistics, leads me to wish to pick the most well rounded team with each player having their individual strengths.  Thus the players are the following:\n",
    "Pidgeot for having the highest hp stat of 83\n",
    "Beedrill for having a high attack stat of 90\n",
    "Blastoise for having the highest defense stat of 100\n",
    "Venusaur for having the highest special attack stat of 100 and being overall powerful\n",
    "Butterfree for having a high special defense stat of 80\n",
    "Charizard for having a high speed stat of 100"
   ]
  },
  {
   "cell_type": "markdown",
   "metadata": {},
   "source": [
    "### Problem 3:\n",
    "\n",
    "Create a function that does the following:\n",
    "* Input: pokemon_name(user_defined) -> str\n",
    "* Output: list object containing a dictionary of values from the response object.\n",
    "* Please include the type, the most current raritey level, at least one held item, and all stats"
   ]
  },
  {
   "cell_type": "code",
   "execution_count": 107,
   "metadata": {},
   "outputs": [
    {
     "data": {
      "text/plain": [
       "'oran-berry'"
      ]
     },
     "execution_count": 107,
     "metadata": {},
     "output_type": "execute_result"
    }
   ],
   "source": [
    "# characters with held items: 12, 15, 19, 20\n",
    "response2 = requests.get('https://pokeapi.co/api/v2/pokemon/20/')\n",
    "response2.json()['held_items'][0]['item']['name']\n"
   ]
  },
  {
   "cell_type": "code",
   "execution_count": 119,
   "metadata": {},
   "outputs": [
    {
     "name": "stdout",
     "output_type": "stream",
     "text": [
      "[{'raticate': {'name': 'Raticate', 'held_items': ['oran-berry', 'sitrus-berry', 'chilan-berry'], 'stats_hp': 55, 'stats_attack': 81, 'stats_defense': 60, 'stats_spec_attack': 50, 'stats_spec_defense': 70, 'stats_speed': 97}}]\n"
     ]
    }
   ],
   "source": [
    "'''\n",
    "    Function to return list of dictionary items of character traits\n",
    "'''\n",
    "def pokemon_dict(name):\n",
    "    uri = ''\n",
    "    output = []\n",
    "    out_dict = {}\n",
    "    pokemon_name = name\n",
    "    for i in range(len(response.json()['results'])):\n",
    "        if response.json()['results'][i]['name'] == name:\n",
    "            uri = response.json()['results'][i]['url']\n",
    "    response2 = requests.get(uri)\n",
    "    \n",
    "    out_dict[pokemon_name] = {\n",
    "        'name' : name.title(),\n",
    "        'held_items' : [response2.json()['held_items'][x]['item']['name'] for x in range(len(response2.json()['held_items']))],\n",
    "        'stats_hp': stat_get(response2.json())[0],\n",
    "        'stats_attack': stat_get(response2.json())[1],\n",
    "        'stats_defense': stat_get(response2.json())[2],\n",
    "        'stats_spec_attack': stat_get(response2.json())[3],\n",
    "        'stats_spec_defense': stat_get(response2.json())[4],\n",
    "        'stats_speed': stat_get(response2.json())[5]        \n",
    "    }\n",
    "    output.append(out_dict)\n",
    "    print(output)\n",
    "    \n",
    "pokemon_dict('raticate')\n",
    "    "
   ]
  }
 ],
 "metadata": {
  "kernelspec": {
   "display_name": "Python 3 (ipykernel)",
   "language": "python",
   "name": "python3"
  },
  "language_info": {
   "codemirror_mode": {
    "name": "ipython",
    "version": 3
   },
   "file_extension": ".py",
   "mimetype": "text/x-python",
   "name": "python",
   "nbconvert_exporter": "python",
   "pygments_lexer": "ipython3",
   "version": "3.8.16"
  },
  "vscode": {
   "interpreter": {
    "hash": "26de051ba29f2982a8de78e945f0abaf191376122a1563185a90213a26c5da77"
   }
  }
 },
 "nbformat": 4,
 "nbformat_minor": 2
}
