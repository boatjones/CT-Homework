{
 "cells": [
  {
   "cell_type": "markdown",
   "metadata": {},
   "source": [
    "# Coding Temple's Data Analytics Program\n",
    "---\n",
    "## Python for Data Analytics: Stats Assignment"
   ]
  },
  {
   "cell_type": "markdown",
   "metadata": {},
   "source": [
    "For today's homework, you will be working with AB Testing Dataset. This data was scraped from a study conducted by Udemy. The study was to determine if there was a relationship with the number of clickthroughs and webtext that was displayed. \n",
    "\n",
    "Your goal is to analyze the data that was collected during this study and determine whether or not there is a relationship between the two variables."
   ]
  },
  {
   "cell_type": "markdown",
   "metadata": {},
   "source": [
    "### Task 1: Imports\n",
    "Import your data and your libraries needed to complete this assignment:"
   ]
  },
  {
   "cell_type": "code",
   "execution_count": 41,
   "metadata": {},
   "outputs": [],
   "source": [
    "import pandas as pd\n",
    "from scipy.stats import chi2_contingency"
   ]
  },
  {
   "cell_type": "code",
   "execution_count": 6,
   "metadata": {},
   "outputs": [
    {
     "data": {
      "text/html": [
       "<div>\n",
       "<style scoped>\n",
       "    .dataframe tbody tr th:only-of-type {\n",
       "        vertical-align: middle;\n",
       "    }\n",
       "\n",
       "    .dataframe tbody tr th {\n",
       "        vertical-align: top;\n",
       "    }\n",
       "\n",
       "    .dataframe thead th {\n",
       "        text-align: right;\n",
       "    }\n",
       "</style>\n",
       "<table border=\"1\" class=\"dataframe\">\n",
       "  <thead>\n",
       "    <tr style=\"text-align: right;\">\n",
       "      <th></th>\n",
       "      <th>Unnamed: 0</th>\n",
       "      <th>Pageview</th>\n",
       "      <th>Group</th>\n",
       "      <th>Click</th>\n",
       "    </tr>\n",
       "  </thead>\n",
       "  <tbody>\n",
       "    <tr>\n",
       "      <th>0</th>\n",
       "      <td>0</td>\n",
       "      <td>0</td>\n",
       "      <td>Control</td>\n",
       "      <td>1</td>\n",
       "    </tr>\n",
       "    <tr>\n",
       "      <th>1</th>\n",
       "      <td>1</td>\n",
       "      <td>1</td>\n",
       "      <td>Control</td>\n",
       "      <td>1</td>\n",
       "    </tr>\n",
       "    <tr>\n",
       "      <th>2</th>\n",
       "      <td>2</td>\n",
       "      <td>2</td>\n",
       "      <td>Control</td>\n",
       "      <td>1</td>\n",
       "    </tr>\n",
       "    <tr>\n",
       "      <th>3</th>\n",
       "      <td>3</td>\n",
       "      <td>3</td>\n",
       "      <td>Control</td>\n",
       "      <td>1</td>\n",
       "    </tr>\n",
       "    <tr>\n",
       "      <th>4</th>\n",
       "      <td>4</td>\n",
       "      <td>4</td>\n",
       "      <td>Control</td>\n",
       "      <td>1</td>\n",
       "    </tr>\n",
       "    <tr>\n",
       "      <th>...</th>\n",
       "      <td>...</td>\n",
       "      <td>...</td>\n",
       "      <td>...</td>\n",
       "      <td>...</td>\n",
       "    </tr>\n",
       "    <tr>\n",
       "      <th>690198</th>\n",
       "      <td>690198</td>\n",
       "      <td>344655</td>\n",
       "      <td>Experiment</td>\n",
       "      <td>0</td>\n",
       "    </tr>\n",
       "    <tr>\n",
       "      <th>690199</th>\n",
       "      <td>690199</td>\n",
       "      <td>344656</td>\n",
       "      <td>Experiment</td>\n",
       "      <td>0</td>\n",
       "    </tr>\n",
       "    <tr>\n",
       "      <th>690200</th>\n",
       "      <td>690200</td>\n",
       "      <td>344657</td>\n",
       "      <td>Experiment</td>\n",
       "      <td>0</td>\n",
       "    </tr>\n",
       "    <tr>\n",
       "      <th>690201</th>\n",
       "      <td>690201</td>\n",
       "      <td>344658</td>\n",
       "      <td>Experiment</td>\n",
       "      <td>0</td>\n",
       "    </tr>\n",
       "    <tr>\n",
       "      <th>690202</th>\n",
       "      <td>690202</td>\n",
       "      <td>344659</td>\n",
       "      <td>Experiment</td>\n",
       "      <td>0</td>\n",
       "    </tr>\n",
       "  </tbody>\n",
       "</table>\n",
       "<p>690203 rows × 4 columns</p>\n",
       "</div>"
      ],
      "text/plain": [
       "        Unnamed: 0  Pageview       Group  Click\n",
       "0                0         0     Control      1\n",
       "1                1         1     Control      1\n",
       "2                2         2     Control      1\n",
       "3                3         3     Control      1\n",
       "4                4         4     Control      1\n",
       "...            ...       ...         ...    ...\n",
       "690198      690198    344655  Experiment      0\n",
       "690199      690199    344656  Experiment      0\n",
       "690200      690200    344657  Experiment      0\n",
       "690201      690201    344658  Experiment      0\n",
       "690202      690202    344659  Experiment      0\n",
       "\n",
       "[690203 rows x 4 columns]"
      ]
     },
     "execution_count": 6,
     "metadata": {},
     "output_type": "execute_result"
    }
   ],
   "source": [
    "df = pd.read_csv('data/ab_testing.csv')\n",
    "df"
   ]
  },
  {
   "cell_type": "code",
   "execution_count": 7,
   "metadata": {},
   "outputs": [],
   "source": [
    "df.drop('Unnamed: 0', axis=1, inplace=True)"
   ]
  },
  {
   "cell_type": "code",
   "execution_count": 9,
   "metadata": {},
   "outputs": [
    {
     "data": {
      "text/html": [
       "<div>\n",
       "<style scoped>\n",
       "    .dataframe tbody tr th:only-of-type {\n",
       "        vertical-align: middle;\n",
       "    }\n",
       "\n",
       "    .dataframe tbody tr th {\n",
       "        vertical-align: top;\n",
       "    }\n",
       "\n",
       "    .dataframe thead th {\n",
       "        text-align: right;\n",
       "    }\n",
       "</style>\n",
       "<table border=\"1\" class=\"dataframe\">\n",
       "  <thead>\n",
       "    <tr style=\"text-align: right;\">\n",
       "      <th></th>\n",
       "      <th>pageview</th>\n",
       "      <th>group</th>\n",
       "      <th>click</th>\n",
       "    </tr>\n",
       "  </thead>\n",
       "  <tbody>\n",
       "    <tr>\n",
       "      <th>0</th>\n",
       "      <td>0</td>\n",
       "      <td>Control</td>\n",
       "      <td>1</td>\n",
       "    </tr>\n",
       "    <tr>\n",
       "      <th>1</th>\n",
       "      <td>1</td>\n",
       "      <td>Control</td>\n",
       "      <td>1</td>\n",
       "    </tr>\n",
       "    <tr>\n",
       "      <th>2</th>\n",
       "      <td>2</td>\n",
       "      <td>Control</td>\n",
       "      <td>1</td>\n",
       "    </tr>\n",
       "    <tr>\n",
       "      <th>3</th>\n",
       "      <td>3</td>\n",
       "      <td>Control</td>\n",
       "      <td>1</td>\n",
       "    </tr>\n",
       "    <tr>\n",
       "      <th>4</th>\n",
       "      <td>4</td>\n",
       "      <td>Control</td>\n",
       "      <td>1</td>\n",
       "    </tr>\n",
       "  </tbody>\n",
       "</table>\n",
       "</div>"
      ],
      "text/plain": [
       "   pageview    group  click\n",
       "0         0  Control      1\n",
       "1         1  Control      1\n",
       "2         2  Control      1\n",
       "3         3  Control      1\n",
       "4         4  Control      1"
      ]
     },
     "execution_count": 9,
     "metadata": {},
     "output_type": "execute_result"
    }
   ],
   "source": [
    "lst_cols = ['pageview','group','click']\n",
    "df.rename(columns=dict(zip(df.columns, lst_cols)), inplace=True)\n",
    "df.head()"
   ]
  },
  {
   "cell_type": "code",
   "execution_count": 15,
   "metadata": {},
   "outputs": [
    {
     "name": "stdout",
     "output_type": "stream",
     "text": [
      "<class 'pandas.core.frame.DataFrame'>\n",
      "RangeIndex: 690203 entries, 0 to 690202\n",
      "Data columns (total 3 columns):\n",
      " #   Column    Non-Null Count   Dtype \n",
      "---  ------    --------------   ----- \n",
      " 0   pageview  690203 non-null  int64 \n",
      " 1   group     690203 non-null  object\n",
      " 2   click     690203 non-null  int64 \n",
      "dtypes: int64(2), object(1)\n",
      "memory usage: 15.8+ MB\n"
     ]
    }
   ],
   "source": [
    "df.info()"
   ]
  },
  {
   "cell_type": "code",
   "execution_count": 57,
   "metadata": {},
   "outputs": [
    {
     "name": "stdout",
     "output_type": "stream",
     "text": [
      "For Control group of 345543 rows, there are 345543 pageview uniques and 28378 clicks\n",
      "For Experiment group of 344660 rows, there are 344660 pageview uniques and 28325 clicks\n"
     ]
    }
   ],
   "source": [
    "'''\n",
    "    Brute Force Split Out to Separate DataFrames Per Group\n",
    "    1) determine that the pageview column is just the unique identifier for each group\n",
    "    2) get the number of positive clicks and row counts for each group\n",
    "    3) have two separate group tables to work with later\n",
    "'''\n",
    "df_control = df[df['group'] == 'Control']\n",
    "control_tot = len(df_control)\n",
    "control_page = df_control['pageview'].nunique()\n",
    "control_clicks = len(df_control[df_control['click']== 1])\n",
    "\n",
    "df_exper = df[df['group'] == 'Experiment']\n",
    "exper_tot = len(df_exper)\n",
    "exper_page = df_exper['pageview'].nunique()\n",
    "exper_clicks = len(df_exper[df_exper['click']== 1])\n",
    "\n",
    "print(f'For Control group of {control_tot} rows, there are {control_page} pageview uniques and {control_clicks} clicks')\n",
    "print(f'For Experiment group of {exper_tot} rows, there are {exper_page} pageview uniques and {exper_clicks} clicks')"
   ]
  },
  {
   "cell_type": "markdown",
   "metadata": {},
   "source": [
    "### Task 2: Creating Hypothesis\n",
    "\n",
    "Before you begin working with the data, formulate your null and alternative hypothesis in the markdown cell below:"
   ]
  },
  {
   "cell_type": "markdown",
   "metadata": {},
   "source": [
    "H0: There is no relationship between the addition of text to the page and subsequent user clickthroughs.  The percentage of clicks in the Experiement group will be not significantly different from the clicks in the Control group. \n",
    "<br>Ha: The addition of text on the page leads to a change in the incidence of user clickthroughs.  There is a significantly different percentage of clicks in the Experiment group as compared to the click percentage in the Control group.\n",
    "\n"
   ]
  },
  {
   "cell_type": "markdown",
   "metadata": {},
   "source": [
    "### Task 3: Calculating Frequencies\n",
    "\n",
    "In this task, you will calculate your frequency and your relative frequency of the `group` column"
   ]
  },
  {
   "cell_type": "code",
   "execution_count": 22,
   "metadata": {},
   "outputs": [
    {
     "data": {
      "text/plain": [
       "Control       345543\n",
       "Experiment    344660\n",
       "Name: group, dtype: int64"
      ]
     },
     "execution_count": 22,
     "metadata": {},
     "output_type": "execute_result"
    }
   ],
   "source": [
    "df['group'].value_counts()"
   ]
  },
  {
   "cell_type": "code",
   "execution_count": 25,
   "metadata": {},
   "outputs": [
    {
     "data": {
      "text/plain": [
       "Control       50.063967\n",
       "Experiment    49.936033\n",
       "Name: group, dtype: float64"
      ]
     },
     "execution_count": 25,
     "metadata": {},
     "output_type": "execute_result"
    }
   ],
   "source": [
    "df['group'].value_counts(normalize=True)*100"
   ]
  },
  {
   "cell_type": "markdown",
   "metadata": {},
   "source": [
    "Next, let's calculate the frequency and relative frequency of the `click` column:"
   ]
  },
  {
   "cell_type": "code",
   "execution_count": 27,
   "metadata": {},
   "outputs": [
    {
     "data": {
      "text/plain": [
       "0    633500\n",
       "1     56703\n",
       "Name: click, dtype: int64"
      ]
     },
     "execution_count": 27,
     "metadata": {},
     "output_type": "execute_result"
    }
   ],
   "source": [
    "df['click'].value_counts()"
   ]
  },
  {
   "cell_type": "code",
   "execution_count": 52,
   "metadata": {},
   "outputs": [
    {
     "data": {
      "text/plain": [
       "0    91.784591\n",
       "1     8.215409\n",
       "Name: click, dtype: float64"
      ]
     },
     "execution_count": 52,
     "metadata": {},
     "output_type": "execute_result"
    }
   ],
   "source": [
    "df['click'].value_counts(normalize=True)*100 # converted to percentages"
   ]
  },
  {
   "cell_type": "markdown",
   "metadata": {},
   "source": [
    "### Task 4a: \n",
    "\n",
    "Look at the joint distribution of the `group` and `click` columns and make an inference on if there is a relationship between the group and clicks"
   ]
  },
  {
   "cell_type": "code",
   "execution_count": 51,
   "metadata": {},
   "outputs": [
    {
     "data": {
      "text/html": [
       "<div>\n",
       "<style scoped>\n",
       "    .dataframe tbody tr th:only-of-type {\n",
       "        vertical-align: middle;\n",
       "    }\n",
       "\n",
       "    .dataframe tbody tr th {\n",
       "        vertical-align: top;\n",
       "    }\n",
       "\n",
       "    .dataframe thead th {\n",
       "        text-align: right;\n",
       "    }\n",
       "</style>\n",
       "<table border=\"1\" class=\"dataframe\">\n",
       "  <thead>\n",
       "    <tr style=\"text-align: right;\">\n",
       "      <th></th>\n",
       "      <th></th>\n",
       "      <th>0</th>\n",
       "    </tr>\n",
       "    <tr>\n",
       "      <th>group</th>\n",
       "      <th>click</th>\n",
       "      <th></th>\n",
       "    </tr>\n",
       "  </thead>\n",
       "  <tbody>\n",
       "    <tr>\n",
       "      <th rowspan=\"2\" valign=\"top\">Experiment</th>\n",
       "      <th>1</th>\n",
       "      <td>4.103865</td>\n",
       "    </tr>\n",
       "    <tr>\n",
       "      <th>0</th>\n",
       "      <td>45.832168</td>\n",
       "    </tr>\n",
       "    <tr>\n",
       "      <th rowspan=\"2\" valign=\"top\">Control</th>\n",
       "      <th>1</th>\n",
       "      <td>4.111544</td>\n",
       "    </tr>\n",
       "    <tr>\n",
       "      <th>0</th>\n",
       "      <td>45.952423</td>\n",
       "    </tr>\n",
       "  </tbody>\n",
       "</table>\n",
       "</div>"
      ],
      "text/plain": [
       "                          0\n",
       "group      click           \n",
       "Experiment 1       4.103865\n",
       "           0      45.832168\n",
       "Control    1       4.111544\n",
       "           0      45.952423"
      ]
     },
     "execution_count": 51,
     "metadata": {},
     "output_type": "execute_result"
    }
   ],
   "source": [
    "# data exploration\n",
    "# this is the sort of work I would usually do in SQL \n",
    "# but the 'normalize=True' statement is very powerful and no equivalent seems to exist in SQL that I know about\n",
    "df[['group','click']].value_counts(normalize=True).to_frame().sort_values(by=['group','click'],ascending=False)*100"
   ]
  },
  {
   "cell_type": "code",
   "execution_count": 31,
   "metadata": {},
   "outputs": [
    {
     "data": {
      "text/plain": [
       "group    click\n",
       "Control  0        91.787419\n",
       "         1         8.212581\n",
       "dtype: float64"
      ]
     },
     "execution_count": 31,
     "metadata": {},
     "output_type": "execute_result"
    }
   ],
   "source": [
    "# look at the click percentages constrained to the Control group from the brute force split\n",
    "df_control[['group','click']].value_counts(normalize=True)*100"
   ]
  },
  {
   "cell_type": "code",
   "execution_count": 32,
   "metadata": {},
   "outputs": [
    {
     "data": {
      "text/plain": [
       "group       click\n",
       "Experiment  0        91.781756\n",
       "            1         8.218244\n",
       "dtype: float64"
      ]
     },
     "execution_count": 32,
     "metadata": {},
     "output_type": "execute_result"
    }
   ],
   "source": [
    "# look at the click percentages constrained to the Experiment group from the brute force split\n",
    "df_exper[['group','click']].value_counts(normalize=True)*100"
   ]
  },
  {
   "cell_type": "markdown",
   "metadata": {},
   "source": [
    "There appears to be very little difference between the number of follow-on clicks between the Control group and the Experiment group.  \n",
    "\n",
    "The top query using the full DataFrame, df, yields the same numbers as the numbers in the crosstab in Task 4c.  This points to a potential error of this approach versus splitting via brute force and working that way.  In this case, the number of rows per each group is quite close.  Therefore, this error was kept to a minimum.  With a slightly greater difference in row numbers between each group, a misleading crosstab could result.  The crosstab suggests to the uninitiated that the Control group did ever so slightly better than the Experiment group at 4.1115% clicks versus 4.1038% clicks. This is not the correct interpretation and the larger number is because there were 345,543 rows in the Control group versus 344,660 rows in the Experiment group.  The click percentages for each group are a percentage of the total clicks.  The 883 row difference inflates the control group's positive click percentage.\n",
    "\n",
    "A safer way to envision how results break out is via a brute force split to see the percentage of positive clicks in each group.  In this case, the Experiment group was ever so slightly better at 8.218% positive versus 8.213% positive for the Control group.  \n",
    "\n",
    "Still no meaningful difference but the perils of a crosstab are evident.\n",
    "\n",
    "Back to the AB Test, putting in the rows & positive clicks for each group into <a href=\"https://neilpatel.com/ab-testing-calculator/\">Neil Patel's AB Calculator</a>, the Experiment group did work 1% better but only with a 54% confidence level and thus not statistically signifcant."
   ]
  },
  {
   "cell_type": "markdown",
   "metadata": {},
   "source": [
    "### Task 4b:\n",
    "\n",
    "Calculate the marginal distribution of the `group` and `click` variables:"
   ]
  },
  {
   "cell_type": "code",
   "execution_count": 39,
   "metadata": {},
   "outputs": [
    {
     "data": {
      "text/html": [
       "<div>\n",
       "<style scoped>\n",
       "    .dataframe tbody tr th:only-of-type {\n",
       "        vertical-align: middle;\n",
       "    }\n",
       "\n",
       "    .dataframe tbody tr th {\n",
       "        vertical-align: top;\n",
       "    }\n",
       "\n",
       "    .dataframe thead th {\n",
       "        text-align: right;\n",
       "    }\n",
       "</style>\n",
       "<table border=\"1\" class=\"dataframe\">\n",
       "  <thead>\n",
       "    <tr style=\"text-align: right;\">\n",
       "      <th>group</th>\n",
       "      <th>Control</th>\n",
       "      <th>Experiment</th>\n",
       "    </tr>\n",
       "    <tr>\n",
       "      <th>click</th>\n",
       "      <th></th>\n",
       "      <th></th>\n",
       "    </tr>\n",
       "  </thead>\n",
       "  <tbody>\n",
       "    <tr>\n",
       "      <th>1</th>\n",
       "      <td>28378</td>\n",
       "      <td>28325</td>\n",
       "    </tr>\n",
       "    <tr>\n",
       "      <th>0</th>\n",
       "      <td>317165</td>\n",
       "      <td>316335</td>\n",
       "    </tr>\n",
       "  </tbody>\n",
       "</table>\n",
       "</div>"
      ],
      "text/plain": [
       "group  Control  Experiment\n",
       "click                     \n",
       "1        28378       28325\n",
       "0       317165      316335"
      ]
     },
     "execution_count": 39,
     "metadata": {},
     "output_type": "execute_result"
    }
   ],
   "source": [
    "pd.crosstab(df['click'], df['group']).sort_values(by='click', ascending=False)"
   ]
  },
  {
   "cell_type": "markdown",
   "metadata": {},
   "source": [
    "### Task 4c:\n",
    "Calculate the conditional distribution of the `group` and `click` variables:"
   ]
  },
  {
   "cell_type": "code",
   "execution_count": 40,
   "metadata": {},
   "outputs": [
    {
     "data": {
      "text/html": [
       "<div>\n",
       "<style scoped>\n",
       "    .dataframe tbody tr th:only-of-type {\n",
       "        vertical-align: middle;\n",
       "    }\n",
       "\n",
       "    .dataframe tbody tr th {\n",
       "        vertical-align: top;\n",
       "    }\n",
       "\n",
       "    .dataframe thead th {\n",
       "        text-align: right;\n",
       "    }\n",
       "</style>\n",
       "<table border=\"1\" class=\"dataframe\">\n",
       "  <thead>\n",
       "    <tr style=\"text-align: right;\">\n",
       "      <th>group</th>\n",
       "      <th>Control</th>\n",
       "      <th>Experiment</th>\n",
       "    </tr>\n",
       "    <tr>\n",
       "      <th>click</th>\n",
       "      <th></th>\n",
       "      <th></th>\n",
       "    </tr>\n",
       "  </thead>\n",
       "  <tbody>\n",
       "    <tr>\n",
       "      <th>1</th>\n",
       "      <td>4.111544</td>\n",
       "      <td>4.103865</td>\n",
       "    </tr>\n",
       "    <tr>\n",
       "      <th>0</th>\n",
       "      <td>45.952423</td>\n",
       "      <td>45.832168</td>\n",
       "    </tr>\n",
       "  </tbody>\n",
       "</table>\n",
       "</div>"
      ],
      "text/plain": [
       "group    Control  Experiment\n",
       "click                       \n",
       "1       4.111544    4.103865\n",
       "0      45.952423   45.832168"
      ]
     },
     "execution_count": 40,
     "metadata": {},
     "output_type": "execute_result"
    }
   ],
   "source": [
    "pd.crosstab(df['click'], df['group'], normalize=True).sort_values(by='click', ascending=False)*100"
   ]
  },
  {
   "cell_type": "markdown",
   "metadata": {},
   "source": [
    "### Task 5:\n",
    "\n",
    "Perform a chi-squared test on your data. Interpret and communicate the results in a markdown cell below your code"
   ]
  },
  {
   "cell_type": "code",
   "execution_count": 43,
   "metadata": {},
   "outputs": [
    {
     "name": "stdout",
     "output_type": "stream",
     "text": [
      "0.9352212452988706\n"
     ]
    }
   ],
   "source": [
    "_,p_val, ___,__ = chi2_contingency(pd.crosstab(df['group'], df['click']))\n",
    "print(p_val)"
   ]
  },
  {
   "cell_type": "markdown",
   "metadata": {},
   "source": [
    "OK, given my text about crosstabs in the interpretation markdown above, that the crosstab feature is used in the Chi Squared calculation worries me about the potential for error in other studies. This one is safe because of the relatively equal number of records will not lead to the potential error I am concerned about.  To wrap up, the large Chi Squared of 93% shows that there are insignificant differences between the positive clicks in each groups.  H0 cannot be rejected.\n",
    "\n",
    "My question is in a situation where the percentage of positive clicks is identical for the Experiment group but the number of Experiment rows is unequal to the Control group by 10,000, will the Chi Squared test -- using a crosstab -- yield the same result?"
   ]
  },
  {
   "cell_type": "markdown",
   "metadata": {},
   "source": [
    "### Independent Exploration\n",
    "\n",
    "So my issues with crosstab in a Chi Square study is that the number of rows in each study influences the result despite the positive click percentages being almost identical.  \n",
    "\n",
    "So, I have created a second dataframe of results where the Experiment group is down by 10,000 records but has the <b>IDENTICAL</b> positive click percentage that was previously shown to be basically equal to that percentage in the Control group."
   ]
  },
  {
   "cell_type": "code",
   "execution_count": 58,
   "metadata": {},
   "outputs": [],
   "source": [
    "import numpy as np"
   ]
  },
  {
   "cell_type": "code",
   "execution_count": 72,
   "metadata": {},
   "outputs": [
    {
     "data": {
      "text/plain": [
       "0.0    91.781977\n",
       "1.0     8.218023\n",
       "Name: click, dtype: float64"
      ]
     },
     "execution_count": 72,
     "metadata": {},
     "output_type": "execute_result"
    }
   ],
   "source": [
    "num_rows = (control_tot - 10000)\n",
    "percentage_of_ones = 0.08218244\n",
    "num_ones = int(num_rows * percentage_of_ones)\n",
    "num_zeros = num_rows - num_ones\n",
    "sequence = range(1,num_rows+1)\n",
    "\n",
    "click = np.concatenate([np.ones(num_ones), np.zeros(num_zeros)])\n",
    "np.random.shuffle(click)\n",
    "df_exper2 = pd.DataFrame({'pageview': sequence, 'group': 'Experiment','click':click})\n",
    "# percentage breakout of positive clicks is identical in this dataframe\n",
    "df_exper2['click'].value_counts(normalize=True)*100\n"
   ]
  },
  {
   "cell_type": "code",
   "execution_count": 73,
   "metadata": {},
   "outputs": [],
   "source": [
    "# merge the new (lower # record) experiment dataframe with the control \n",
    "# dataframe separated above to make a new project dataframe\n",
    "df2 = pd.concat([df_control, df_exper2], ignore_index=True)"
   ]
  },
  {
   "cell_type": "code",
   "execution_count": 74,
   "metadata": {},
   "outputs": [
    {
     "data": {
      "text/html": [
       "<div>\n",
       "<style scoped>\n",
       "    .dataframe tbody tr th:only-of-type {\n",
       "        vertical-align: middle;\n",
       "    }\n",
       "\n",
       "    .dataframe tbody tr th {\n",
       "        vertical-align: top;\n",
       "    }\n",
       "\n",
       "    .dataframe thead th {\n",
       "        text-align: right;\n",
       "    }\n",
       "</style>\n",
       "<table border=\"1\" class=\"dataframe\">\n",
       "  <thead>\n",
       "    <tr style=\"text-align: right;\">\n",
       "      <th>group</th>\n",
       "      <th>Control</th>\n",
       "      <th>Experiment</th>\n",
       "    </tr>\n",
       "    <tr>\n",
       "      <th>click</th>\n",
       "      <th></th>\n",
       "      <th></th>\n",
       "    </tr>\n",
       "  </thead>\n",
       "  <tbody>\n",
       "    <tr>\n",
       "      <th>1.0</th>\n",
       "      <td>4.166581</td>\n",
       "      <td>4.048681</td>\n",
       "    </tr>\n",
       "    <tr>\n",
       "      <th>0.0</th>\n",
       "      <td>46.567541</td>\n",
       "      <td>45.217197</td>\n",
       "    </tr>\n",
       "  </tbody>\n",
       "</table>\n",
       "</div>"
      ],
      "text/plain": [
       "group    Control  Experiment\n",
       "click                       \n",
       "1.0     4.166581    4.048681\n",
       "0.0    46.567541   45.217197"
      ]
     },
     "execution_count": 74,
     "metadata": {},
     "output_type": "execute_result"
    }
   ],
   "source": [
    "# a new conditional distribution\n",
    "# here's where the error surfaces because of how it's fed into ch2_contingency and interpreted\n",
    "pd.crosstab(df2['click'], df2['group'], normalize=True).sort_values(by='click', ascending=False)*100"
   ]
  },
  {
   "cell_type": "code",
   "execution_count": 75,
   "metadata": {},
   "outputs": [
    {
     "name": "stdout",
     "output_type": "stream",
     "text": [
      "0.0006376660871901818\n"
     ]
    }
   ],
   "source": [
    "# a new Chi Squared test\n",
    "# and bingo\n",
    "_,p_val, ___,__ = chi2_contingency(pd.crosstab(df2['group'], df['click']))\n",
    "print(p_val)"
   ]
  },
  {
   "cell_type": "code",
   "execution_count": 77,
   "metadata": {},
   "outputs": [
    {
     "data": {
      "text/plain": [
       "335543"
      ]
     },
     "execution_count": 77,
     "metadata": {},
     "output_type": "execute_result"
    }
   ],
   "source": [
    "# get total number of records in new experiment dataframe\n",
    "len(df_exper2)"
   ]
  },
  {
   "cell_type": "code",
   "execution_count": 76,
   "metadata": {},
   "outputs": [
    {
     "data": {
      "text/plain": [
       "0.0    307968\n",
       "1.0     27575\n",
       "Name: click, dtype: int64"
      ]
     },
     "execution_count": 76,
     "metadata": {},
     "output_type": "execute_result"
    }
   ],
   "source": [
    "# get number of positive clicks from new experiment dataframe\n",
    "df_exper2['click'].value_counts()"
   ]
  },
  {
   "cell_type": "markdown",
   "metadata": {},
   "source": [
    "Back to Neil Patel's AB Testing Calculator for the new row numbers and click counts for the reduced record Experiment group, and the results are the same: a 1% improvement at 54% confidence level. \n",
    "\n",
    "This shows that crosstabs should not be used in a Chi Square test because it is falsely sensitive to row counts in the categories.\n",
    "\n",
    "Previous stats courses with Chi Squared test shows it to be useful.  I will explore how to use this in Python not using crosstabs so that it can be depended on.  I also will review my stats notes to see how to calculate the confidence level, p-value as done on Niel Patel's calculator."
   ]
  }
 ],
 "metadata": {
  "kernelspec": {
   "display_name": "Python 3 (ipykernel)",
   "language": "python",
   "name": "python3"
  },
  "language_info": {
   "codemirror_mode": {
    "name": "ipython",
    "version": 3
   },
   "file_extension": ".py",
   "mimetype": "text/x-python",
   "name": "python",
   "nbconvert_exporter": "python",
   "pygments_lexer": "ipython3",
   "version": "3.8.16"
  }
 },
 "nbformat": 4,
 "nbformat_minor": 2
}
